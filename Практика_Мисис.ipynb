{
  "cells": [
    {
      "cell_type": "code",
      "execution_count": null,
      "metadata": {
        "id": "XvKCR-7bTgHs"
      },
      "outputs": [],
      "source": [
        "#!pip install transformers\n",
        "#!pip install catboost"
      ]
    },
    {
      "cell_type": "code",
      "execution_count": null,
      "metadata": {
        "id": "W68Rs2ktBZcD"
      },
      "outputs": [],
      "source": [
        "import numpy as np\n",
        "import pandas as pd\n",
        "import seaborn as sns\n",
        "\n",
        "import matplotlib.pyplot as plt\n",
        "\n",
        "from sklearn.model_selection import train_test_split\n",
        "\n",
        "from sklearn.metrics import mean_squared_error\n",
        "\n",
        "import transformers\n",
        "from transformers import BertTokenizer, BertModel\n",
        "\n",
        "import torch\n",
        "from catboost import CatBoostRegressor\n",
        "from sklearn.ensemble import RandomForestRegressor\n",
        "\n",
        "from xgboost import XGBClassifier\n",
        "from lightgbm import LGBMClassifier"
      ]
    },
    {
      "cell_type": "code",
      "execution_count": null,
      "metadata": {
        "id": "oUn9luTKjmBS"
      },
      "outputs": [],
      "source": [
        "data = pd.read_excel('/content/train.xlsx')\n",
        "test = pd.read_excel('/content/test.xlsx')"
      ]
    },
    {
      "cell_type": "code",
      "execution_count": null,
      "metadata": {
        "colab": {
          "base_uri": "https://localhost:8080/",
          "height": 300
        },
        "id": "RnkFrJGMkrom",
        "outputId": "9a05aa9d-17b8-415a-d047-234cfe580d20"
      },
      "outputs": [
        {
          "output_type": "execute_result",
          "data": {
            "text/plain": [
              "       tutor_rating  tutor_reviews   mean_price\n",
              "count   3959.000000    4548.000000  4548.000000\n",
              "mean       1.895933       2.989006    16.197949\n",
              "std        2.280103       8.516939    10.485108\n",
              "min        0.000000       0.000000     0.041667\n",
              "25%        0.000000       0.000000    10.000000\n",
              "50%        0.000000       0.000000    15.000000\n",
              "75%        4.000000       2.000000    20.888889\n",
              "max        5.000000     152.000000   100.000000"
            ],
            "text/html": [
              "\n",
              "  <div id=\"df-ffc40123-932d-4d6b-a25f-07e5eba57d50\" class=\"colab-df-container\">\n",
              "    <div>\n",
              "<style scoped>\n",
              "    .dataframe tbody tr th:only-of-type {\n",
              "        vertical-align: middle;\n",
              "    }\n",
              "\n",
              "    .dataframe tbody tr th {\n",
              "        vertical-align: top;\n",
              "    }\n",
              "\n",
              "    .dataframe thead th {\n",
              "        text-align: right;\n",
              "    }\n",
              "</style>\n",
              "<table border=\"1\" class=\"dataframe\">\n",
              "  <thead>\n",
              "    <tr style=\"text-align: right;\">\n",
              "      <th></th>\n",
              "      <th>tutor_rating</th>\n",
              "      <th>tutor_reviews</th>\n",
              "      <th>mean_price</th>\n",
              "    </tr>\n",
              "  </thead>\n",
              "  <tbody>\n",
              "    <tr>\n",
              "      <th>count</th>\n",
              "      <td>3959.000000</td>\n",
              "      <td>4548.000000</td>\n",
              "      <td>4548.000000</td>\n",
              "    </tr>\n",
              "    <tr>\n",
              "      <th>mean</th>\n",
              "      <td>1.895933</td>\n",
              "      <td>2.989006</td>\n",
              "      <td>16.197949</td>\n",
              "    </tr>\n",
              "    <tr>\n",
              "      <th>std</th>\n",
              "      <td>2.280103</td>\n",
              "      <td>8.516939</td>\n",
              "      <td>10.485108</td>\n",
              "    </tr>\n",
              "    <tr>\n",
              "      <th>min</th>\n",
              "      <td>0.000000</td>\n",
              "      <td>0.000000</td>\n",
              "      <td>0.041667</td>\n",
              "    </tr>\n",
              "    <tr>\n",
              "      <th>25%</th>\n",
              "      <td>0.000000</td>\n",
              "      <td>0.000000</td>\n",
              "      <td>10.000000</td>\n",
              "    </tr>\n",
              "    <tr>\n",
              "      <th>50%</th>\n",
              "      <td>0.000000</td>\n",
              "      <td>0.000000</td>\n",
              "      <td>15.000000</td>\n",
              "    </tr>\n",
              "    <tr>\n",
              "      <th>75%</th>\n",
              "      <td>4.000000</td>\n",
              "      <td>2.000000</td>\n",
              "      <td>20.888889</td>\n",
              "    </tr>\n",
              "    <tr>\n",
              "      <th>max</th>\n",
              "      <td>5.000000</td>\n",
              "      <td>152.000000</td>\n",
              "      <td>100.000000</td>\n",
              "    </tr>\n",
              "  </tbody>\n",
              "</table>\n",
              "</div>\n",
              "    <div class=\"colab-df-buttons\">\n",
              "\n",
              "  <div class=\"colab-df-container\">\n",
              "    <button class=\"colab-df-convert\" onclick=\"convertToInteractive('df-ffc40123-932d-4d6b-a25f-07e5eba57d50')\"\n",
              "            title=\"Convert this dataframe to an interactive table.\"\n",
              "            style=\"display:none;\">\n",
              "\n",
              "  <svg xmlns=\"http://www.w3.org/2000/svg\" height=\"24px\" viewBox=\"0 -960 960 960\">\n",
              "    <path d=\"M120-120v-720h720v720H120Zm60-500h600v-160H180v160Zm220 220h160v-160H400v160Zm0 220h160v-160H400v160ZM180-400h160v-160H180v160Zm440 0h160v-160H620v160ZM180-180h160v-160H180v160Zm440 0h160v-160H620v160Z\"/>\n",
              "  </svg>\n",
              "    </button>\n",
              "\n",
              "  <style>\n",
              "    .colab-df-container {\n",
              "      display:flex;\n",
              "      gap: 12px;\n",
              "    }\n",
              "\n",
              "    .colab-df-convert {\n",
              "      background-color: #E8F0FE;\n",
              "      border: none;\n",
              "      border-radius: 50%;\n",
              "      cursor: pointer;\n",
              "      display: none;\n",
              "      fill: #1967D2;\n",
              "      height: 32px;\n",
              "      padding: 0 0 0 0;\n",
              "      width: 32px;\n",
              "    }\n",
              "\n",
              "    .colab-df-convert:hover {\n",
              "      background-color: #E2EBFA;\n",
              "      box-shadow: 0px 1px 2px rgba(60, 64, 67, 0.3), 0px 1px 3px 1px rgba(60, 64, 67, 0.15);\n",
              "      fill: #174EA6;\n",
              "    }\n",
              "\n",
              "    .colab-df-buttons div {\n",
              "      margin-bottom: 4px;\n",
              "    }\n",
              "\n",
              "    [theme=dark] .colab-df-convert {\n",
              "      background-color: #3B4455;\n",
              "      fill: #D2E3FC;\n",
              "    }\n",
              "\n",
              "    [theme=dark] .colab-df-convert:hover {\n",
              "      background-color: #434B5C;\n",
              "      box-shadow: 0px 1px 3px 1px rgba(0, 0, 0, 0.15);\n",
              "      filter: drop-shadow(0px 1px 2px rgba(0, 0, 0, 0.3));\n",
              "      fill: #FFFFFF;\n",
              "    }\n",
              "  </style>\n",
              "\n",
              "    <script>\n",
              "      const buttonEl =\n",
              "        document.querySelector('#df-ffc40123-932d-4d6b-a25f-07e5eba57d50 button.colab-df-convert');\n",
              "      buttonEl.style.display =\n",
              "        google.colab.kernel.accessAllowed ? 'block' : 'none';\n",
              "\n",
              "      async function convertToInteractive(key) {\n",
              "        const element = document.querySelector('#df-ffc40123-932d-4d6b-a25f-07e5eba57d50');\n",
              "        const dataTable =\n",
              "          await google.colab.kernel.invokeFunction('convertToInteractive',\n",
              "                                                    [key], {});\n",
              "        if (!dataTable) return;\n",
              "\n",
              "        const docLinkHtml = 'Like what you see? Visit the ' +\n",
              "          '<a target=\"_blank\" href=https://colab.research.google.com/notebooks/data_table.ipynb>data table notebook</a>'\n",
              "          + ' to learn more about interactive tables.';\n",
              "        element.innerHTML = '';\n",
              "        dataTable['output_type'] = 'display_data';\n",
              "        await google.colab.output.renderOutput(dataTable, element);\n",
              "        const docLink = document.createElement('div');\n",
              "        docLink.innerHTML = docLinkHtml;\n",
              "        element.appendChild(docLink);\n",
              "      }\n",
              "    </script>\n",
              "  </div>\n",
              "\n",
              "\n",
              "<div id=\"df-2bdc62f3-bbc2-47b5-8bf7-9a91d23df7ad\">\n",
              "  <button class=\"colab-df-quickchart\" onclick=\"quickchart('df-2bdc62f3-bbc2-47b5-8bf7-9a91d23df7ad')\"\n",
              "            title=\"Suggest charts\"\n",
              "            style=\"display:none;\">\n",
              "\n",
              "<svg xmlns=\"http://www.w3.org/2000/svg\" height=\"24px\"viewBox=\"0 0 24 24\"\n",
              "     width=\"24px\">\n",
              "    <g>\n",
              "        <path d=\"M19 3H5c-1.1 0-2 .9-2 2v14c0 1.1.9 2 2 2h14c1.1 0 2-.9 2-2V5c0-1.1-.9-2-2-2zM9 17H7v-7h2v7zm4 0h-2V7h2v10zm4 0h-2v-4h2v4z\"/>\n",
              "    </g>\n",
              "</svg>\n",
              "  </button>\n",
              "\n",
              "<style>\n",
              "  .colab-df-quickchart {\n",
              "      --bg-color: #E8F0FE;\n",
              "      --fill-color: #1967D2;\n",
              "      --hover-bg-color: #E2EBFA;\n",
              "      --hover-fill-color: #174EA6;\n",
              "      --disabled-fill-color: #AAA;\n",
              "      --disabled-bg-color: #DDD;\n",
              "  }\n",
              "\n",
              "  [theme=dark] .colab-df-quickchart {\n",
              "      --bg-color: #3B4455;\n",
              "      --fill-color: #D2E3FC;\n",
              "      --hover-bg-color: #434B5C;\n",
              "      --hover-fill-color: #FFFFFF;\n",
              "      --disabled-bg-color: #3B4455;\n",
              "      --disabled-fill-color: #666;\n",
              "  }\n",
              "\n",
              "  .colab-df-quickchart {\n",
              "    background-color: var(--bg-color);\n",
              "    border: none;\n",
              "    border-radius: 50%;\n",
              "    cursor: pointer;\n",
              "    display: none;\n",
              "    fill: var(--fill-color);\n",
              "    height: 32px;\n",
              "    padding: 0;\n",
              "    width: 32px;\n",
              "  }\n",
              "\n",
              "  .colab-df-quickchart:hover {\n",
              "    background-color: var(--hover-bg-color);\n",
              "    box-shadow: 0 1px 2px rgba(60, 64, 67, 0.3), 0 1px 3px 1px rgba(60, 64, 67, 0.15);\n",
              "    fill: var(--button-hover-fill-color);\n",
              "  }\n",
              "\n",
              "  .colab-df-quickchart-complete:disabled,\n",
              "  .colab-df-quickchart-complete:disabled:hover {\n",
              "    background-color: var(--disabled-bg-color);\n",
              "    fill: var(--disabled-fill-color);\n",
              "    box-shadow: none;\n",
              "  }\n",
              "\n",
              "  .colab-df-spinner {\n",
              "    border: 2px solid var(--fill-color);\n",
              "    border-color: transparent;\n",
              "    border-bottom-color: var(--fill-color);\n",
              "    animation:\n",
              "      spin 1s steps(1) infinite;\n",
              "  }\n",
              "\n",
              "  @keyframes spin {\n",
              "    0% {\n",
              "      border-color: transparent;\n",
              "      border-bottom-color: var(--fill-color);\n",
              "      border-left-color: var(--fill-color);\n",
              "    }\n",
              "    20% {\n",
              "      border-color: transparent;\n",
              "      border-left-color: var(--fill-color);\n",
              "      border-top-color: var(--fill-color);\n",
              "    }\n",
              "    30% {\n",
              "      border-color: transparent;\n",
              "      border-left-color: var(--fill-color);\n",
              "      border-top-color: var(--fill-color);\n",
              "      border-right-color: var(--fill-color);\n",
              "    }\n",
              "    40% {\n",
              "      border-color: transparent;\n",
              "      border-right-color: var(--fill-color);\n",
              "      border-top-color: var(--fill-color);\n",
              "    }\n",
              "    60% {\n",
              "      border-color: transparent;\n",
              "      border-right-color: var(--fill-color);\n",
              "    }\n",
              "    80% {\n",
              "      border-color: transparent;\n",
              "      border-right-color: var(--fill-color);\n",
              "      border-bottom-color: var(--fill-color);\n",
              "    }\n",
              "    90% {\n",
              "      border-color: transparent;\n",
              "      border-bottom-color: var(--fill-color);\n",
              "    }\n",
              "  }\n",
              "</style>\n",
              "\n",
              "  <script>\n",
              "    async function quickchart(key) {\n",
              "      const quickchartButtonEl =\n",
              "        document.querySelector('#' + key + ' button');\n",
              "      quickchartButtonEl.disabled = true;  // To prevent multiple clicks.\n",
              "      quickchartButtonEl.classList.add('colab-df-spinner');\n",
              "      try {\n",
              "        const charts = await google.colab.kernel.invokeFunction(\n",
              "            'suggestCharts', [key], {});\n",
              "      } catch (error) {\n",
              "        console.error('Error during call to suggestCharts:', error);\n",
              "      }\n",
              "      quickchartButtonEl.classList.remove('colab-df-spinner');\n",
              "      quickchartButtonEl.classList.add('colab-df-quickchart-complete');\n",
              "    }\n",
              "    (() => {\n",
              "      let quickchartButtonEl =\n",
              "        document.querySelector('#df-2bdc62f3-bbc2-47b5-8bf7-9a91d23df7ad button');\n",
              "      quickchartButtonEl.style.display =\n",
              "        google.colab.kernel.accessAllowed ? 'block' : 'none';\n",
              "    })();\n",
              "  </script>\n",
              "</div>\n",
              "    </div>\n",
              "  </div>\n"
            ],
            "application/vnd.google.colaboratory.intrinsic+json": {
              "type": "dataframe",
              "summary": "{\n  \"name\": \"data\",\n  \"rows\": 8,\n  \"fields\": [\n    {\n      \"column\": \"tutor_rating\",\n      \"properties\": {\n        \"dtype\": \"number\",\n        \"std\": 1399.0536590133524,\n        \"min\": 0.0,\n        \"max\": 3959.0,\n        \"num_unique_values\": 6,\n        \"samples\": [\n          3959.0,\n          1.8959333164940642,\n          5.0\n        ],\n        \"semantic_type\": \"\",\n        \"description\": \"\"\n      }\n    },\n    {\n      \"column\": \"tutor_reviews\",\n      \"properties\": {\n        \"dtype\": \"number\",\n        \"std\": 1600.4620397654578,\n        \"min\": 0.0,\n        \"max\": 4548.0,\n        \"num_unique_values\": 6,\n        \"samples\": [\n          4548.0,\n          2.9890061565523305,\n          152.0\n        ],\n        \"semantic_type\": \"\",\n        \"description\": \"\"\n      }\n    },\n    {\n      \"column\": \"mean_price\",\n      \"properties\": {\n        \"dtype\": \"number\",\n        \"std\": 1599.5496486400687,\n        \"min\": 0.04166666666666667,\n        \"max\": 4548.0,\n        \"num_unique_values\": 8,\n        \"samples\": [\n          16.197948896313424,\n          15.0,\n          4548.0\n        ],\n        \"semantic_type\": \"\",\n        \"description\": \"\"\n      }\n    }\n  ]\n}"
            }
          },
          "metadata": {},
          "execution_count": 7
        }
      ],
      "source": [
        "data = data.drop(columns = 'Unnamed: 0')\n",
        "test = test.drop(columns = 'Unnamed: 0')\n",
        "data.describe()"
      ]
    },
    {
      "cell_type": "code",
      "execution_count": null,
      "metadata": {
        "colab": {
          "base_uri": "https://localhost:8080/"
        },
        "id": "-P_jz8YVkKT3",
        "outputId": "9126f50a-6843-48ca-9b82-9af63d1199d3"
      },
      "outputs": [
        {
          "output_type": "stream",
          "name": "stdout",
          "text": [
            "<class 'pandas.core.frame.DataFrame'>\n",
            "RangeIndex: 4548 entries, 0 to 4547\n",
            "Data columns (total 27 columns):\n",
            " #   Column            Non-Null Count  Dtype  \n",
            "---  ------            --------------  -----  \n",
            " 0   предмет           4548 non-null   object \n",
            " 1   ФИО               4548 non-null   object \n",
            " 2   tutor_head_tags   4548 non-null   object \n",
            " 3   tutor_rating      3959 non-null   float64\n",
            " 4   tutor_reviews     4548 non-null   int64  \n",
            " 5   description       4547 non-null   object \n",
            " 6   experience_desc   2171 non-null   object \n",
            " 7   Education_1       4548 non-null   object \n",
            " 8   Desc_Education_1  4472 non-null   object \n",
            " 9   Education_2       781 non-null    object \n",
            " 10  Desc_Education_2  777 non-null    object \n",
            " 11  Education_3       106 non-null    object \n",
            " 12  Desc_Education_3  105 non-null    object \n",
            " 13  Education_4       16 non-null     object \n",
            " 14  Desc_Education_4  16 non-null     object \n",
            " 15  Ученая степень 1  76 non-null     object \n",
            " 16  Ученое звание 1   35 non-null     object \n",
            " 17  status            4535 non-null   object \n",
            " 18  experience        4523 non-null   object \n",
            " 19  Desc_Education_5  3 non-null      object \n",
            " 20  Desc_Education_6  1 non-null      object \n",
            " 21  Education_5       3 non-null      object \n",
            " 22  Education_6       1 non-null      object \n",
            " 23  Ученая степень 2  1 non-null      object \n",
            " 24  Ученое звание 2   1 non-null      object \n",
            " 25  categories        4548 non-null   object \n",
            " 26  mean_price        4548 non-null   float64\n",
            "dtypes: float64(2), int64(1), object(24)\n",
            "memory usage: 959.5+ KB\n"
          ]
        }
      ],
      "source": [
        "data.info()"
      ]
    },
    {
      "cell_type": "markdown",
      "metadata": {
        "id": "eetNCOpjk5Tt"
      },
      "source": [
        "Уберем столбцы, где почти все пропуски, т.к. они не несут в себе важную информацию, а так же ФИО не влияет на зарплату"
      ]
    },
    {
      "cell_type": "code",
      "execution_count": null,
      "metadata": {
        "id": "A3r3jUl-ko6v"
      },
      "outputs": [],
      "source": [
        "data = data.drop(columns = ['Education_3', 'Education_4', 'Desc_Education_3','Desc_Education_4', 'Desc_Education_5', 'Desc_Education_6', 'Education_5', 'Education_6', 'Ученая степень 2', 'Ученое звание 2', 'ФИО'])\n",
        "test = test.drop(columns = ['Education_3', 'Education_4', 'Desc_Education_3','Desc_Education_4', 'Desc_Education_5', 'Desc_Education_6', 'Education_5', 'Education_6', 'Ученая степень 2', 'Ученое звание 2', 'ФИО'])"
      ]
    },
    {
      "cell_type": "code",
      "source": [
        "data = data.drop(columns = ['Ученая степень 1', 'Ученое звание 1'])\n",
        "test = test.drop(columns = ['Ученая степень 1', 'Ученое звание 1'])"
      ],
      "metadata": {
        "id": "kL-eGHSO8qUU"
      },
      "execution_count": null,
      "outputs": []
    },
    {
      "cell_type": "code",
      "execution_count": null,
      "metadata": {
        "colab": {
          "base_uri": "https://localhost:8080/"
        },
        "id": "As6zi_Mfw98E",
        "outputId": "d0353bc9-de5a-4caa-f591-f0e114071459"
      },
      "outputs": [
        {
          "output_type": "stream",
          "name": "stdout",
          "text": [
            "<class 'pandas.core.frame.DataFrame'>\n",
            "RangeIndex: 4548 entries, 0 to 4547\n",
            "Data columns (total 14 columns):\n",
            " #   Column            Non-Null Count  Dtype  \n",
            "---  ------            --------------  -----  \n",
            " 0   предмет           4548 non-null   object \n",
            " 1   tutor_head_tags   4548 non-null   object \n",
            " 2   tutor_rating      3959 non-null   float64\n",
            " 3   tutor_reviews     4548 non-null   int64  \n",
            " 4   description       4547 non-null   object \n",
            " 5   experience_desc   2171 non-null   object \n",
            " 6   Education_1       4548 non-null   object \n",
            " 7   Desc_Education_1  4472 non-null   object \n",
            " 8   Education_2       781 non-null    object \n",
            " 9   Desc_Education_2  777 non-null    object \n",
            " 10  status            4535 non-null   object \n",
            " 11  experience        4523 non-null   object \n",
            " 12  categories        4548 non-null   object \n",
            " 13  mean_price        4548 non-null   float64\n",
            "dtypes: float64(2), int64(1), object(11)\n",
            "memory usage: 497.6+ KB\n"
          ]
        }
      ],
      "source": [
        "data.info()"
      ]
    },
    {
      "cell_type": "markdown",
      "metadata": {
        "id": "WnJ0UVWYy-XZ"
      },
      "source": [
        "Заполним пропуски"
      ]
    },
    {
      "cell_type": "code",
      "execution_count": null,
      "metadata": {
        "colab": {
          "base_uri": "https://localhost:8080/",
          "height": 523
        },
        "id": "YId1D57MzAej",
        "outputId": "22d0cf16-92e3-4e71-f7df-9d4519561a86"
      },
      "outputs": [
        {
          "output_type": "execute_result",
          "data": {
            "text/plain": [
              "предмет                0\n",
              "tutor_head_tags        0\n",
              "tutor_rating         589\n",
              "tutor_reviews          0\n",
              "description            1\n",
              "experience_desc     2377\n",
              "Education_1            0\n",
              "Desc_Education_1      76\n",
              "Education_2         3767\n",
              "Desc_Education_2    3771\n",
              "status                13\n",
              "experience            25\n",
              "categories             0\n",
              "mean_price             0\n",
              "dtype: int64"
            ],
            "text/html": [
              "<div>\n",
              "<style scoped>\n",
              "    .dataframe tbody tr th:only-of-type {\n",
              "        vertical-align: middle;\n",
              "    }\n",
              "\n",
              "    .dataframe tbody tr th {\n",
              "        vertical-align: top;\n",
              "    }\n",
              "\n",
              "    .dataframe thead th {\n",
              "        text-align: right;\n",
              "    }\n",
              "</style>\n",
              "<table border=\"1\" class=\"dataframe\">\n",
              "  <thead>\n",
              "    <tr style=\"text-align: right;\">\n",
              "      <th></th>\n",
              "      <th>0</th>\n",
              "    </tr>\n",
              "  </thead>\n",
              "  <tbody>\n",
              "    <tr>\n",
              "      <th>предмет</th>\n",
              "      <td>0</td>\n",
              "    </tr>\n",
              "    <tr>\n",
              "      <th>tutor_head_tags</th>\n",
              "      <td>0</td>\n",
              "    </tr>\n",
              "    <tr>\n",
              "      <th>tutor_rating</th>\n",
              "      <td>589</td>\n",
              "    </tr>\n",
              "    <tr>\n",
              "      <th>tutor_reviews</th>\n",
              "      <td>0</td>\n",
              "    </tr>\n",
              "    <tr>\n",
              "      <th>description</th>\n",
              "      <td>1</td>\n",
              "    </tr>\n",
              "    <tr>\n",
              "      <th>experience_desc</th>\n",
              "      <td>2377</td>\n",
              "    </tr>\n",
              "    <tr>\n",
              "      <th>Education_1</th>\n",
              "      <td>0</td>\n",
              "    </tr>\n",
              "    <tr>\n",
              "      <th>Desc_Education_1</th>\n",
              "      <td>76</td>\n",
              "    </tr>\n",
              "    <tr>\n",
              "      <th>Education_2</th>\n",
              "      <td>3767</td>\n",
              "    </tr>\n",
              "    <tr>\n",
              "      <th>Desc_Education_2</th>\n",
              "      <td>3771</td>\n",
              "    </tr>\n",
              "    <tr>\n",
              "      <th>status</th>\n",
              "      <td>13</td>\n",
              "    </tr>\n",
              "    <tr>\n",
              "      <th>experience</th>\n",
              "      <td>25</td>\n",
              "    </tr>\n",
              "    <tr>\n",
              "      <th>categories</th>\n",
              "      <td>0</td>\n",
              "    </tr>\n",
              "    <tr>\n",
              "      <th>mean_price</th>\n",
              "      <td>0</td>\n",
              "    </tr>\n",
              "  </tbody>\n",
              "</table>\n",
              "</div><br><label><b>dtype:</b> int64</label>"
            ]
          },
          "metadata": {},
          "execution_count": 12
        }
      ],
      "source": [
        "data.isna().sum()"
      ]
    },
    {
      "cell_type": "markdown",
      "metadata": {
        "id": "kmjEiKP_zIfk"
      },
      "source": [
        "Если tutor_rating пропущена, то это должен быть новый пользователь и рейтинга у него нет"
      ]
    },
    {
      "cell_type": "code",
      "execution_count": null,
      "metadata": {
        "colab": {
          "base_uri": "https://localhost:8080/",
          "height": 458
        },
        "id": "q-vm0srfzCUX",
        "outputId": "62da8b81-d34c-4b09-db7a-cd0171dc89e8"
      },
      "outputs": [
        {
          "output_type": "execute_result",
          "data": {
            "text/plain": [
              "0       5.0\n",
              "1       4.0\n",
              "2       0.0\n",
              "3       4.0\n",
              "4       0.0\n",
              "       ... \n",
              "4543    4.0\n",
              "4544    0.0\n",
              "4545    0.0\n",
              "4546    0.0\n",
              "4547    0.0\n",
              "Name: tutor_rating, Length: 4548, dtype: float64"
            ],
            "text/html": [
              "<div>\n",
              "<style scoped>\n",
              "    .dataframe tbody tr th:only-of-type {\n",
              "        vertical-align: middle;\n",
              "    }\n",
              "\n",
              "    .dataframe tbody tr th {\n",
              "        vertical-align: top;\n",
              "    }\n",
              "\n",
              "    .dataframe thead th {\n",
              "        text-align: right;\n",
              "    }\n",
              "</style>\n",
              "<table border=\"1\" class=\"dataframe\">\n",
              "  <thead>\n",
              "    <tr style=\"text-align: right;\">\n",
              "      <th></th>\n",
              "      <th>tutor_rating</th>\n",
              "    </tr>\n",
              "  </thead>\n",
              "  <tbody>\n",
              "    <tr>\n",
              "      <th>0</th>\n",
              "      <td>5.0</td>\n",
              "    </tr>\n",
              "    <tr>\n",
              "      <th>1</th>\n",
              "      <td>4.0</td>\n",
              "    </tr>\n",
              "    <tr>\n",
              "      <th>2</th>\n",
              "      <td>0.0</td>\n",
              "    </tr>\n",
              "    <tr>\n",
              "      <th>3</th>\n",
              "      <td>4.0</td>\n",
              "    </tr>\n",
              "    <tr>\n",
              "      <th>4</th>\n",
              "      <td>0.0</td>\n",
              "    </tr>\n",
              "    <tr>\n",
              "      <th>...</th>\n",
              "      <td>...</td>\n",
              "    </tr>\n",
              "    <tr>\n",
              "      <th>4543</th>\n",
              "      <td>4.0</td>\n",
              "    </tr>\n",
              "    <tr>\n",
              "      <th>4544</th>\n",
              "      <td>0.0</td>\n",
              "    </tr>\n",
              "    <tr>\n",
              "      <th>4545</th>\n",
              "      <td>0.0</td>\n",
              "    </tr>\n",
              "    <tr>\n",
              "      <th>4546</th>\n",
              "      <td>0.0</td>\n",
              "    </tr>\n",
              "    <tr>\n",
              "      <th>4547</th>\n",
              "      <td>0.0</td>\n",
              "    </tr>\n",
              "  </tbody>\n",
              "</table>\n",
              "<p>4548 rows × 1 columns</p>\n",
              "</div><br><label><b>dtype:</b> float64</label>"
            ]
          },
          "metadata": {},
          "execution_count": 13
        }
      ],
      "source": [
        "data['tutor_rating']"
      ]
    },
    {
      "cell_type": "code",
      "execution_count": null,
      "metadata": {
        "id": "BGuiJ9_KzSfH"
      },
      "outputs": [],
      "source": [
        "data['tutor_rating'] = data['tutor_rating'].fillna(0)\n",
        "\n",
        "test['tutor_rating'] = test['tutor_rating'].fillna(0)"
      ]
    },
    {
      "cell_type": "markdown",
      "metadata": {
        "id": "7btzGj4uzfaP"
      },
      "source": [
        "Если description пропущено, то можем просто заемнить его пустой строкой"
      ]
    },
    {
      "cell_type": "code",
      "execution_count": null,
      "metadata": {
        "id": "xqmsxPF9zX8o"
      },
      "outputs": [],
      "source": [
        "data['description'] = data['description'].fillna('')\n",
        "\n",
        "test['description'] = test['description'].fillna('')"
      ]
    },
    {
      "cell_type": "markdown",
      "metadata": {
        "id": "IFZTD3-0zruZ"
      },
      "source": [
        "Аналогично с experience_description и desc_eductation"
      ]
    },
    {
      "cell_type": "code",
      "execution_count": null,
      "metadata": {
        "id": "wVkz_TlMzq8-"
      },
      "outputs": [],
      "source": [
        "data['experience_desc'] = data['experience_desc'].fillna('')\n",
        "data['Desc_Education_1'] = data['Desc_Education_1'].fillna('')\n",
        "data['Desc_Education_2'] = data['Desc_Education_2'].fillna('')\n",
        "# data['Desc_Education_3'] = data['Desc_Education_3'].fillna('')\n",
        "# data['Desc_Education_4'] = data['Desc_Education_4'].fillna('')\n",
        "\n",
        "test['experience_desc'] = test['experience_desc'].fillna('')\n",
        "test['Desc_Education_1'] = test['Desc_Education_1'].fillna('')\n",
        "test['Desc_Education_2'] = test['Desc_Education_2'].fillna('')\n",
        "# test['Desc_Education_3'] = test['Desc_Education_3'].fillna('')\n",
        "# test['Desc_Education_4'] = test['Desc_Education_4'].fillna('')"
      ]
    },
    {
      "cell_type": "markdown",
      "metadata": {
        "id": "GsMJ4e5X0XGN"
      },
      "source": [
        "Если какое-то из образований пропущено, то, скорее всего, его просто нет"
      ]
    },
    {
      "cell_type": "code",
      "execution_count": null,
      "metadata": {
        "id": "RpbNPSMw0oOO"
      },
      "outputs": [],
      "source": [
        "data['Education_2'] = data['Education_2'].fillna('')\n",
        "# data['Education_3'] = data['Education_3'].fillna('')\n",
        "# # data['Education_4'] = data['Education_4'].fillna('')\n",
        "# data['Ученая степень 1'] = data['Ученая степень 1'].fillna('')\n",
        "# data['Ученое звание 1'] = data['Ученое звание 1'].fillna('')\n",
        "\n",
        "test['Education_2'] = test['Education_2'].fillna('')\n",
        "# test['Education_3'] = test['Education_3'].fillna('')\n",
        "# test['Education_4'] = test['Education_4'].fillna('')\n",
        "# test['Ученая степень 1'] = test['Ученая степень 1'].fillna('')\n",
        "# test['Ученое звание 1'] = test['Ученое звание 1'].fillna('')"
      ]
    },
    {
      "cell_type": "code",
      "execution_count": null,
      "metadata": {
        "id": "O0rZbto31Gam"
      },
      "outputs": [],
      "source": [
        "data['status'] = data['status'].fillna('')\n",
        "\n",
        "test['status'] = test['status'].fillna('')"
      ]
    },
    {
      "cell_type": "markdown",
      "metadata": {
        "id": "s4qTl62g1Z57"
      },
      "source": [
        "Если experience не указан, тог можем предположин, что это новый репетитор без опыта работы"
      ]
    },
    {
      "cell_type": "code",
      "execution_count": null,
      "metadata": {
        "id": "s8Bq4KJ2z2EW"
      },
      "outputs": [],
      "source": [
        "data['experience'] = data['experience'].fillna('0 лет')\n",
        "\n",
        "test['experience'] = test['experience'].fillna('0 лет')"
      ]
    },
    {
      "cell_type": "code",
      "execution_count": null,
      "metadata": {
        "colab": {
          "base_uri": "https://localhost:8080/",
          "height": 523
        },
        "id": "iOB9wE771to0",
        "outputId": "0bc03ccd-6450-4501-b70f-fe99947a567f"
      },
      "outputs": [
        {
          "output_type": "execute_result",
          "data": {
            "text/plain": [
              "предмет             0\n",
              "tutor_head_tags     0\n",
              "tutor_rating        0\n",
              "tutor_reviews       0\n",
              "description         0\n",
              "experience_desc     0\n",
              "Education_1         0\n",
              "Desc_Education_1    0\n",
              "Education_2         0\n",
              "Desc_Education_2    0\n",
              "status              0\n",
              "experience          0\n",
              "categories          0\n",
              "mean_price          0\n",
              "dtype: int64"
            ],
            "text/html": [
              "<div>\n",
              "<style scoped>\n",
              "    .dataframe tbody tr th:only-of-type {\n",
              "        vertical-align: middle;\n",
              "    }\n",
              "\n",
              "    .dataframe tbody tr th {\n",
              "        vertical-align: top;\n",
              "    }\n",
              "\n",
              "    .dataframe thead th {\n",
              "        text-align: right;\n",
              "    }\n",
              "</style>\n",
              "<table border=\"1\" class=\"dataframe\">\n",
              "  <thead>\n",
              "    <tr style=\"text-align: right;\">\n",
              "      <th></th>\n",
              "      <th>0</th>\n",
              "    </tr>\n",
              "  </thead>\n",
              "  <tbody>\n",
              "    <tr>\n",
              "      <th>предмет</th>\n",
              "      <td>0</td>\n",
              "    </tr>\n",
              "    <tr>\n",
              "      <th>tutor_head_tags</th>\n",
              "      <td>0</td>\n",
              "    </tr>\n",
              "    <tr>\n",
              "      <th>tutor_rating</th>\n",
              "      <td>0</td>\n",
              "    </tr>\n",
              "    <tr>\n",
              "      <th>tutor_reviews</th>\n",
              "      <td>0</td>\n",
              "    </tr>\n",
              "    <tr>\n",
              "      <th>description</th>\n",
              "      <td>0</td>\n",
              "    </tr>\n",
              "    <tr>\n",
              "      <th>experience_desc</th>\n",
              "      <td>0</td>\n",
              "    </tr>\n",
              "    <tr>\n",
              "      <th>Education_1</th>\n",
              "      <td>0</td>\n",
              "    </tr>\n",
              "    <tr>\n",
              "      <th>Desc_Education_1</th>\n",
              "      <td>0</td>\n",
              "    </tr>\n",
              "    <tr>\n",
              "      <th>Education_2</th>\n",
              "      <td>0</td>\n",
              "    </tr>\n",
              "    <tr>\n",
              "      <th>Desc_Education_2</th>\n",
              "      <td>0</td>\n",
              "    </tr>\n",
              "    <tr>\n",
              "      <th>status</th>\n",
              "      <td>0</td>\n",
              "    </tr>\n",
              "    <tr>\n",
              "      <th>experience</th>\n",
              "      <td>0</td>\n",
              "    </tr>\n",
              "    <tr>\n",
              "      <th>categories</th>\n",
              "      <td>0</td>\n",
              "    </tr>\n",
              "    <tr>\n",
              "      <th>mean_price</th>\n",
              "      <td>0</td>\n",
              "    </tr>\n",
              "  </tbody>\n",
              "</table>\n",
              "</div><br><label><b>dtype:</b> int64</label>"
            ]
          },
          "metadata": {},
          "execution_count": 20
        }
      ],
      "source": [
        "data.isna().sum()"
      ]
    },
    {
      "cell_type": "markdown",
      "metadata": {
        "id": "jEzdz-HDrXvl"
      },
      "source": [
        "Теперь преобразуем каждый столбец\n"
      ]
    },
    {
      "cell_type": "markdown",
      "metadata": {
        "id": "Sd866Ltg7tiX"
      },
      "source": [
        "Теги репетитора кодируем с помощью one-hot-encoding"
      ]
    },
    {
      "cell_type": "code",
      "execution_count": null,
      "metadata": {
        "id": "Qj8IlC6dlbfO"
      },
      "outputs": [],
      "source": [
        "from sklearn.preprocessing import MultiLabelBinarizer\n",
        "# Разбиваем массивы на отдельные элементы\n",
        "exploded_tags = data['tutor_head_tags'].explode().reset_index(drop=True)\n",
        "# Создаем экземпляр MultiLabelBinarizer\n",
        "mlb = MultiLabelBinarizer()\n",
        "# Преобразуем каждый элемент в список\n",
        "tags_list = [eval(tag) for tag in exploded_tags]\n",
        "# Кодируем метки\n",
        "encoded_tags = mlb.fit_transform(tags_list)\n",
        "# Создаем новый столбец для каждой метки\n",
        "for i, label in enumerate(mlb.classes_):\n",
        "    data[label] = encoded_tags[:, i]"
      ]
    },
    {
      "cell_type": "code",
      "execution_count": null,
      "metadata": {
        "id": "0EtlI9jTmnXe"
      },
      "outputs": [],
      "source": [
        "from sklearn.preprocessing import MultiLabelBinarizer\n",
        "exploded_tags = test['tutor_head_tags'].explode().reset_index(drop=True)\n",
        "mlb = MultiLabelBinarizer()\n",
        "tags_list = [eval(tag) for tag in exploded_tags]\n",
        "encoded_tags = mlb.fit_transform(tags_list)\n",
        "for i, label in enumerate(mlb.classes_):\n",
        "    test[label] = encoded_tags[:, i]"
      ]
    },
    {
      "cell_type": "code",
      "execution_count": null,
      "metadata": {
        "id": "6gx51P64qNGN"
      },
      "outputs": [],
      "source": [
        "data = data.drop(columns = 'tutor_head_tags')\n",
        "\n",
        "test = test.drop(columns = 'tutor_head_tags')"
      ]
    },
    {
      "cell_type": "code",
      "execution_count": null,
      "metadata": {
        "colab": {
          "base_uri": "https://localhost:8080/",
          "height": 178
        },
        "id": "xpl2hfc4qOEc",
        "outputId": "5c8daf02-1252-4e44-828c-543ab9a1d8e9"
      },
      "outputs": [
        {
          "output_type": "execute_result",
          "data": {
            "text/plain": [
              "предмет\n",
              "matematika     3685\n",
              "informatika     863\n",
              "Name: count, dtype: int64"
            ],
            "text/html": [
              "<div>\n",
              "<style scoped>\n",
              "    .dataframe tbody tr th:only-of-type {\n",
              "        vertical-align: middle;\n",
              "    }\n",
              "\n",
              "    .dataframe tbody tr th {\n",
              "        vertical-align: top;\n",
              "    }\n",
              "\n",
              "    .dataframe thead th {\n",
              "        text-align: right;\n",
              "    }\n",
              "</style>\n",
              "<table border=\"1\" class=\"dataframe\">\n",
              "  <thead>\n",
              "    <tr style=\"text-align: right;\">\n",
              "      <th></th>\n",
              "      <th>count</th>\n",
              "    </tr>\n",
              "    <tr>\n",
              "      <th>предмет</th>\n",
              "      <th></th>\n",
              "    </tr>\n",
              "  </thead>\n",
              "  <tbody>\n",
              "    <tr>\n",
              "      <th>matematika</th>\n",
              "      <td>3685</td>\n",
              "    </tr>\n",
              "    <tr>\n",
              "      <th>informatika</th>\n",
              "      <td>863</td>\n",
              "    </tr>\n",
              "  </tbody>\n",
              "</table>\n",
              "</div><br><label><b>dtype:</b> int64</label>"
            ]
          },
          "metadata": {},
          "execution_count": 24
        }
      ],
      "source": [
        "data['предмет'].value_counts()"
      ]
    },
    {
      "cell_type": "markdown",
      "metadata": {
        "id": "GZvnXsM875ee"
      },
      "source": [
        "Предмет так же кодируем с помощью OHE"
      ]
    },
    {
      "cell_type": "code",
      "execution_count": null,
      "metadata": {
        "id": "UTgaEvLrrr7y"
      },
      "outputs": [],
      "source": [
        "data['предмет'] = data['предмет'].replace({'matematika': 1, 'informatika': 0})\n",
        "\n",
        "test['предмет'] = test['предмет'].replace({'matematika': 1, 'informatika': 0})"
      ]
    },
    {
      "cell_type": "markdown",
      "metadata": {
        "id": "zAXrhlnGtlef"
      },
      "source": [
        "В колокне 'description' будет содержаться информация о том, написал ли свое описание репетитор"
      ]
    },
    {
      "cell_type": "code",
      "execution_count": null,
      "metadata": {
        "id": "WnOJ0G70sqIA"
      },
      "outputs": [],
      "source": [
        " data['description'] = data['description'].map({'Репетитор не предоставил о себе дополнительных сведений': 1}).fillna(0)\n",
        "\n",
        " test['description'] = test['description'].map({'Репетитор не предоставил о себе дополнительных сведений': 1}).fillna(0)"
      ]
    },
    {
      "cell_type": "markdown",
      "metadata": {
        "id": "4eUHXg_z8GPi"
      },
      "source": [
        "Разделим описание образование на Год окончания, факлуьтет и специальность"
      ]
    },
    {
      "cell_type": "code",
      "execution_count": null,
      "metadata": {
        "id": "SZdRRbFCtUqP"
      },
      "outputs": [],
      "source": [
        "data['Год_окончания'] = data['Desc_Education_1'].str.extract(r'Год окончания: (\\d+)')\n",
        "data['Факультет'] = data['Desc_Education_1'].str.extract(r'Факультет: ([^,]+)')\n",
        "data['Специальность'] = data['Desc_Education_1'].str.extract(r'Специальность: ([^,]+)')\n",
        "\n",
        "test['Год_окончания'] = test['Desc_Education_1'].str.extract(r'Год окончания: (\\d+)')\n",
        "test['Факультет'] = test['Desc_Education_1'].str.extract(r'Факультет: ([^,]+)')\n",
        "test['Специальность'] = test['Desc_Education_1'].str.extract(r'Специальность: ([^,]+)')"
      ]
    },
    {
      "cell_type": "code",
      "execution_count": null,
      "metadata": {
        "id": "Ol4v3Gp-9n1l"
      },
      "outputs": [],
      "source": [
        "data['Год_окончания_2'] = data['Desc_Education_2'].str.extract(r'Год окончания: (\\d+)')\n",
        "data['Факультет_2'] = data['Desc_Education_2'].str.extract(r'Факультет: ([^,]+)')\n",
        "data['Специальность_2'] = data['Desc_Education_2'].str.extract(r'Специальность: ([^,]+)')\n",
        "\n",
        "test['Год_окончания_2'] = test['Desc_Education_2'].str.extract(r'Год окончания: (\\d+)')\n",
        "test['Факультет_2'] = test['Desc_Education_2'].str.extract(r'Факультет: ([^,]+)')\n",
        "test['Специальность_2'] = test['Desc_Education_2'].str.extract(r'Специальность: ([^,]+)')"
      ]
    },
    {
      "cell_type": "code",
      "execution_count": null,
      "metadata": {
        "id": "qNApa_KBnKDz"
      },
      "outputs": [],
      "source": [
        " #data['Год_окончания_3'] = data['Desc_Education_3'].str.extract(r'Год окончания: (\\d+)')\n",
        "# data['Факультет_3'] = data['Desc_Education_3'].str.extract(r'Факультет: ([^,]+)')\n",
        " #data['Специальность_3'] = data['Desc_Education_3'].str.extract(r'Специальность: ([^,]+)')\n",
        "#test['Год_окончания_3'] = test['Desc_Education_3'].str.extract(r'Год окончания: (\\d+)')\n",
        "#test['Специальность_3'] = test['Desc_Education_3'].str.extract(r'Специальность: ([^,]+)')"
      ]
    },
    {
      "cell_type": "code",
      "execution_count": null,
      "metadata": {
        "id": "uiGXqwRr90eM"
      },
      "outputs": [],
      "source": [
        "# data['Год_окончания_4'] = data['Desc_Education_4'].str.extract(r'Год окончания: (\\d+)')\n",
        "# data['Факультет_4'] = data['Desc_Education_4'].str.extract(r'Факультет: ([^,]+)')\n",
        "# data['Специальность_4'] = data['Desc_Education_4'].str.extract(r'Специальность: ([^,]+)')\n",
        "\n",
        "# test['Год_окончания_4'] = test['Desc_Education_4'].str.extract(r'Год окончания: (\\d+)')\n",
        "# test['Факультет_4'] = test['Desc_Education_4'].str.extract(r'Факультет: ([^,]+)')\n",
        "# test['Специальность_4'] = test['Desc_Education_4'].str.extract(r'Специальность: ([^,]+)')\n",
        "\n",
        "data = data.drop(columns = ['Desc_Education_1', 'Desc_Education_2'])\n",
        "\n",
        "test = test.drop(columns = ['Desc_Education_1', 'Desc_Education_2'])"
      ]
    },
    {
      "cell_type": "code",
      "execution_count": null,
      "metadata": {
        "id": "3EdFxxfk2Wh0"
      },
      "outputs": [],
      "source": [
        "data['Год_окончания'] = data['Год_окончания'].fillna(0)\n",
        "data['Год_окончания_2'] = data['Год_окончания_2'].fillna(0)\n",
        "# data['Год_окончания_3'] = data['Год_окончания_3'].fillna(0)\n",
        "# data['Год_окончания_4'] = data['Год_окончания_4'].fillna(0)\n",
        "data = data.fillna('')\n",
        "\n",
        "test['Год_окончания'] = test['Год_окончания'].fillna(0)\n",
        "test['Год_окончания_2'] = test['Год_окончания_2'].fillna(0)\n",
        "# test['Год_окончания_3'] = test['Год_окончания_3'].fillna(0)\n",
        "# test['Год_окончания_4'] = test['Год_окончания_4'].fillna(0)\n",
        "test = test.fillna('')"
      ]
    },
    {
      "cell_type": "markdown",
      "metadata": {
        "id": "pRLTO5db8P5M"
      },
      "source": [
        "Категории кодируем с помощью OHE"
      ]
    },
    {
      "cell_type": "code",
      "execution_count": null,
      "metadata": {
        "colab": {
          "base_uri": "https://localhost:8080/"
        },
        "id": "t7Ck16bbvZgT",
        "outputId": "bdbe080e-a9b7-439a-d4f5-06f1c3867659"
      },
      "outputs": [
        {
          "output_type": "stream",
          "name": "stderr",
          "text": [
            "/usr/local/lib/python3.10/dist-packages/sklearn/preprocessing/_label.py:900: UserWarning: unknown class(es) ['Студенты университетов группа'] will be ignored\n",
            "  warnings.warn(\n"
          ]
        }
      ],
      "source": [
        "# Применение explode к столбцу с категориями в обучающем наборе данных\n",
        "exploded_tags_train = data['categories'].explode().reset_index(drop=True)\n",
        "\n",
        "# Преобразование списка в массив строк\n",
        "tags_list_train = [eval(tag) for tag in exploded_tags_train]\n",
        "\n",
        "# Создание и обучение MultiLabelBinarizer на обучающем наборе данных\n",
        "mlb = MultiLabelBinarizer()\n",
        "encoded_tags_train = mlb.fit_transform(tags_list_train)\n",
        "\n",
        "# Применение One-Hot Encoding на обучающем наборе данных\n",
        "for i, label in enumerate(mlb.classes_):\n",
        "    data[label] = encoded_tags_train[:, i]\n",
        "\n",
        "# Удаление столбца с категориями из обучающего набора данных\n",
        "data = data.drop(columns='categories')\n",
        "\n",
        "\n",
        "exploded_tags_test = test['categories'].explode().reset_index(drop=True)\n",
        "tags_list_test = [eval(tag) for tag in exploded_tags_test]\n",
        "encoded_tags_test = mlb.transform(tags_list_test)\n",
        "for i, label in enumerate(mlb.classes_):\n",
        "    test[label] = encoded_tags_test[:, i]\n",
        "test = test.drop(columns='categories')\n",
        "\n"
      ]
    },
    {
      "cell_type": "markdown",
      "metadata": {
        "id": "n3gQRZifAXzI"
      },
      "source": [
        "В experience нам нужно только число, оставим его"
      ]
    },
    {
      "cell_type": "code",
      "execution_count": null,
      "metadata": {
        "id": "EwDjXbCEAeoJ"
      },
      "outputs": [],
      "source": [
        "data['experience'] = data['experience'].str.extract(r'(\\d+)')\n",
        "\n",
        "test['experience'] = test['experience'].str.extract(r'(\\d+)')"
      ]
    },
    {
      "cell_type": "code",
      "execution_count": null,
      "metadata": {
        "id": "8HkkPY0tiP00",
        "colab": {
          "base_uri": "https://localhost:8080/"
        },
        "outputId": "09cd207a-b5f4-44d3-e98c-55cf5f05208e"
      },
      "outputs": [
        {
          "output_type": "stream",
          "name": "stdout",
          "text": [
            "<class 'pandas.core.frame.DataFrame'>\n",
            "RangeIndex: 4548 entries, 0 to 4547\n",
            "Data columns (total 52 columns):\n",
            " #   Column                                                                           Non-Null Count  Dtype  \n",
            "---  ------                                                                           --------------  -----  \n",
            " 0   предмет                                                                          4548 non-null   int64  \n",
            " 1   tutor_rating                                                                     4548 non-null   float64\n",
            " 2   tutor_reviews                                                                    4548 non-null   int64  \n",
            " 3   description                                                                      4548 non-null   float64\n",
            " 4   experience_desc                                                                  4548 non-null   object \n",
            " 5   Education_1                                                                      4548 non-null   object \n",
            " 6   Education_2                                                                      4548 non-null   object \n",
            " 7   status                                                                           4548 non-null   object \n",
            " 8   experience                                                                       4548 non-null   object \n",
            " 9   mean_price                                                                       4548 non-null   float64\n",
            " 10  A-level                                                                          4548 non-null   int64  \n",
            " 11  Elementary Mathematics in English                                                4548 non-null   int64  \n",
            " 12  GMAT (математическая часть)                                                      4548 non-null   int64  \n",
            " 13  Higher Mathematics in English - высшая математика на английском языке            4548 non-null   int64  \n",
            " 14  Mathematik auf Deutsch                                                           4548 non-null   int64  \n",
            " 15  SAT (математическая часть)                                                       4548 non-null   int64  \n",
            " 16  Аналитическая геометрия                                                          4548 non-null   int64  \n",
            " 17  Дискретная математика                                                            4548 non-null   int64  \n",
            " 18  Дифференциальные уравнения                                                       4548 non-null   int64  \n",
            " 19  Линейная алгебра                                                                 4548 non-null   int64  \n",
            " 20  Математическая логика                                                            4548 non-null   int64  \n",
            " 21  Математический анализ                                                            4548 non-null   int64  \n",
            " 22  Подготовка к ЕГЭ                                                                 4548 non-null   int64  \n",
            " 23  Подготовка к ОГЭ                                                                 4548 non-null   int64  \n",
            " 24  Подготовка к олимпиадам                                                          4548 non-null   int64  \n",
            " 25  ТФКП                                                                             4548 non-null   int64  \n",
            " 26  Теория вероятности и мат. статистика                                             4548 non-null   int64  \n",
            " 27  Уравнения мат физики                                                             4548 non-null   int64  \n",
            " 28  Школьная программа                                                               4548 non-null   int64  \n",
            " 29  Год_окончания                                                                    4548 non-null   object \n",
            " 30  Факультет                                                                        4548 non-null   object \n",
            " 31  Специальность                                                                    4548 non-null   object \n",
            " 32  Год_окончания_2                                                                  4548 non-null   object \n",
            " 33  Факультет_2                                                                      4548 non-null   object \n",
            " 34  Специальность_2                                                                  4548 non-null   object \n",
            " 35  Взрослые кроме абитуриентов и студентов                                          4548 non-null   int64  \n",
            " 36  Взрослые кроме абитуриентов и студентов в паре                                   4548 non-null   int64  \n",
            " 37  Взрослые кроме абитуриентов и студентов группа                                   4548 non-null   int64  \n",
            " 38  Дошкольники                                                                      4548 non-null   int64  \n",
            " 39  Дошкольники в паре                                                               4548 non-null   int64  \n",
            " 40  Дошкольники группа                                                               4548 non-null   int64  \n",
            " 41  Студенты университетов                                                           4548 non-null   int64  \n",
            " 42  Студенты университетов в паре                                                    4548 non-null   int64  \n",
            " 43  Школьники с 1 по 4 класс                                                         4548 non-null   int64  \n",
            " 44  Школьники с 1 по 4 класс в паре                                                  4548 non-null   int64  \n",
            " 45  Школьники с 1 по 4 класс группа                                                  4548 non-null   int64  \n",
            " 46  Школьники с 10 по 11 класс, студенты колледжей и техникумов, абитуриенты         4548 non-null   int64  \n",
            " 47  Школьники с 10 по 11 класс, студенты колледжей и техникумов, абитуриенты в паре  4548 non-null   int64  \n",
            " 48  Школьники с 10 по 11 класс, студенты колледжей и техникумов, абитуриенты группа  4548 non-null   int64  \n",
            " 49  Школьники с 5 по 9 класс                                                         4548 non-null   int64  \n",
            " 50  Школьники с 5 по 9 класс в паре                                                  4548 non-null   int64  \n",
            " 51  Школьники с 5 по 9 класс группа                                                  4548 non-null   int64  \n",
            "dtypes: float64(3), int64(38), object(11)\n",
            "memory usage: 1.8+ MB\n"
          ]
        }
      ],
      "source": [
        "data.info()"
      ]
    },
    {
      "cell_type": "markdown",
      "metadata": {
        "id": "CZhT1Lbo-ERN"
      },
      "source": [
        "Заполним пропуски"
      ]
    },
    {
      "cell_type": "markdown",
      "metadata": {
        "id": "3yXq-qGv-oX5"
      },
      "source": [
        "Если рейтинг репетитора - NaN, вероятно, у него нет отзывов и можем поставить 0 в эту колонку.\n",
        "\n",
        "Аналогично предположим, что если experience = NaN, то он равен 0"
      ]
    },
    {
      "cell_type": "code",
      "execution_count": null,
      "metadata": {
        "id": "M64BpDzzkkJe"
      },
      "outputs": [],
      "source": [
        "data['Год_окончания'] = data['Год_окончания'].astype(int)\n",
        "data['Год_окончания_2'] = data['Год_окончания_2'].astype(int)\n",
        "# data['Год_окончания_3'] = data['Год_окончания_3'].astype(int)\n",
        "# data['Год_окончания_4'] = data['Год_окончания_4'].astype(int)\n",
        "data['experience'] = data['experience'].astype(int)\n",
        "\n",
        "test['Год_окончания'] = test['Год_окончания'].astype(int)\n",
        "test['Год_окончания_2'] = test['Год_окончания_2'].astype(int)\n",
        "# test['Год_окончания_3'] = test['Год_окончания_3'].astype(int)\n",
        "# test['Год_окончания_4'] = test['Год_окончания_4'].astype(int)\n",
        "test['experience'] = test['experience'].astype(int)"
      ]
    },
    {
      "cell_type": "markdown",
      "source": [
        "Здесь я попробовал закодировать с помощью CatBoostEncoder и получили результаты гораздо хуже (MSE вырос на 24)"
      ],
      "metadata": {
        "id": "XZGGDR3mJEgA"
      }
    },
    {
      "cell_type": "code",
      "source": [
        "# import pandas as pd\n",
        "# from category_encoders import CatBoostEncoder\n",
        "\n",
        "\n",
        "# emb_columns = ['Education_1', 'Education_2', 'Education_3', 'Education_4', 'description', 'experience_desc', 'Ученая степень 1', 'Ученое звание 1', 'status', 'Факультет', 'Специальность', 'Факультет_2', 'Специальность_2', 'Факультет_3', 'Специальность_3', 'Факультет_4', 'Специальность_4']\n",
        "\n",
        "# encoder = CatBoostEncoder(cols=emb_columns)\n",
        "\n",
        "# encoded_data = encoder.fit_transform(data, data['mean_price'])\n",
        "\n",
        "# data[emb_columns] = encoded_data[emb_columns]\n",
        "\n",
        "\n",
        "# emb_columns = ['Education_1', 'Education_2', 'Education_3', 'Education_4', 'description', 'experience_desc', 'Ученая степень 1', 'Ученое звание 1', 'status', 'Факультет', 'Специальность', 'Факультет_2', 'Специальность_2', 'Факультет_3', 'Специальность_3', 'Факультет_4', 'Специальность_4']\n",
        "\n",
        "# encoder = CatBoostEncoder(cols=emb_columns)\n",
        "\n",
        "# encoded_data = encoder.fit_transform(data, data['mean_price'])\n",
        "\n",
        "# test[emb_columns] = encoded_data[emb_columns]\n",
        "\n",
        "\n"
      ],
      "metadata": {
        "id": "X6s-Kh_K0zN_"
      },
      "execution_count": null,
      "outputs": []
    },
    {
      "cell_type": "code",
      "execution_count": null,
      "metadata": {
        "id": "IwOLO4InBu1p"
      },
      "outputs": [],
      "source": [
        "device = torch.device(\"cuda\" if torch.cuda.is_available() else \"cpu\")\n",
        "\n",
        "tokenizer = BertTokenizer.from_pretrained(\"DeepPavlov/rubert-base-cased\")\n",
        "\n",
        "model = BertModel.from_pretrained(\"DeepPavlov/rubert-base-cased\").to(device)"
      ]
    },
    {
      "cell_type": "markdown",
      "source": [
        "Будем кодировать с помощью предобученного BERT, с помощью него мы можем учесть сам текст в описании репетитора, а так же опытным путем получили, что в нашем случае он работает лучше, чем OHE и CatBoostEncoder"
      ],
      "metadata": {
        "id": "8SHc9LbKKUS1"
      }
    },
    {
      "cell_type": "code",
      "execution_count": null,
      "metadata": {
        "id": "Ue1xyx-SUAQT"
      },
      "outputs": [],
      "source": [
        "def get_bert_embeddings(text):\n",
        "    inputs = tokenizer(text, return_tensors=\"pt\", padding=True, truncation=True, max_length=575).to(device)\n",
        "    outputs = model(**inputs)\n",
        "    embeddings = outputs.last_hidden_state[:, 0, :].detach().cpu().numpy()\n",
        "    return embeddings[0]"
      ]
    },
    {
      "cell_type": "code",
      "execution_count": null,
      "metadata": {
        "colab": {
          "base_uri": "https://localhost:8080/"
        },
        "id": "7iXT7OgSUFVS",
        "outputId": "8561ab9b-4155-4efe-8e1f-163f54aef7ae"
      },
      "outputs": [
        {
          "output_type": "stream",
          "name": "stdout",
          "text": [
            "CPU times: user 1min 9s, sys: 352 ms, total: 1min 9s\n",
            "Wall time: 1min 22s\n"
          ]
        }
      ],
      "source": [
        "%%time\n",
        "data[\"Education_1\"] = data[\"Education_1\"].apply(get_bert_embeddings)\n",
        "\n",
        "test[\"Education_1\"] = test[\"Education_1\"].apply(get_bert_embeddings)"
      ]
    },
    {
      "cell_type": "code",
      "execution_count": null,
      "metadata": {
        "colab": {
          "base_uri": "https://localhost:8080/"
        },
        "id": "MYGtHcwK_Q3o",
        "outputId": "451bd0c4-89dc-4922-ea8c-e7d8ecaa7616"
      },
      "outputs": [
        {
          "output_type": "stream",
          "name": "stdout",
          "text": [
            "CPU times: user 1min, sys: 173 ms, total: 1min\n",
            "Wall time: 1min 4s\n"
          ]
        }
      ],
      "source": [
        "%%time\n",
        "data[\"Education_2\"] = data[\"Education_2\"].apply(get_bert_embeddings)\n",
        "\n",
        "test[\"Education_2\"] = test[\"Education_2\"].apply(get_bert_embeddings)"
      ]
    },
    {
      "cell_type": "code",
      "execution_count": null,
      "metadata": {
        "id": "p8eXyTiB_SFR"
      },
      "outputs": [],
      "source": [
        "# %%time\n",
        "# data[\"Education_3\"] = data[\"Education_3\"].apply(get_bert_embeddings)\n",
        "\n",
        "# test[\"Education_3\"] = test[\"Education_3\"].apply(get_bert_embeddings)"
      ]
    },
    {
      "cell_type": "code",
      "execution_count": null,
      "metadata": {
        "id": "T5jAPlrb_SlR"
      },
      "outputs": [],
      "source": [
        "# %%time\n",
        "# data[\"Education_4\"] = data[\"Education_4\"].apply(get_bert_embeddings)\n",
        "\n",
        "# test[\"Education_4\"] = test[\"Education_4\"].apply(get_bert_embeddings)"
      ]
    },
    {
      "cell_type": "code",
      "execution_count": null,
      "metadata": {
        "id": "jtg7Kph1KY5G"
      },
      "outputs": [],
      "source": [
        "max_length = 512\n",
        "\n",
        "data[\"description\"] = data[\"description\"].apply(lambda x: x[:max_length] if isinstance(x, str) else '')\n",
        "data[\"experience_desc\"] = data[\"experience_desc\"].apply(lambda x: x[:max_length] if isinstance(x, str) else '')\n",
        "\n",
        "test[\"description\"] = test[\"description\"].apply(lambda x: x[:max_length] if isinstance(x, str) else '')\n",
        "test[\"experience_desc\"] = test[\"experience_desc\"].apply(lambda x: x[:max_length] if isinstance(x, str) else '')\n"
      ]
    },
    {
      "cell_type": "code",
      "execution_count": null,
      "metadata": {
        "colab": {
          "base_uri": "https://localhost:8080/"
        },
        "id": "2iF2fXWQ_YKT",
        "outputId": "15c1310f-5dc9-4203-90d7-47166eec1416"
      },
      "outputs": [
        {
          "output_type": "stream",
          "name": "stdout",
          "text": [
            "CPU times: user 2min 7s, sys: 396 ms, total: 2min 8s\n",
            "Wall time: 2min 18s\n"
          ]
        }
      ],
      "source": [
        "%%time\n",
        "data[\"description\"] = data[\"description\"].apply(get_bert_embeddings)\n",
        "data[\"experience_desc\"] = data[\"experience_desc\"].apply(get_bert_embeddings)\n",
        "\n",
        "test[\"description\"] = test[\"description\"].apply(get_bert_embeddings)\n",
        "test[\"experience_desc\"] = test[\"experience_desc\"].apply(get_bert_embeddings)"
      ]
    },
    {
      "cell_type": "code",
      "execution_count": null,
      "metadata": {
        "id": "Tm-UnilW_k2u",
        "colab": {
          "base_uri": "https://localhost:8080/"
        },
        "outputId": "9d64b4b6-5cf4-48d6-a8f5-b4b814def4ee"
      },
      "outputs": [
        {
          "output_type": "stream",
          "name": "stdout",
          "text": [
            "CPU times: user 1min 1s, sys: 136 ms, total: 1min 1s\n",
            "Wall time: 1min 2s\n"
          ]
        }
      ],
      "source": [
        "%%time\n",
        "# data[\"Ученая степень 1\"] = data[\"Ученая степень 1\"].apply(get_bert_embeddings)\n",
        "# data[\"Ученое звание 1\"] = data[\"Ученое звание 1\"].apply(get_bert_embeddings)\n",
        "data['status'] = data['status'].apply(get_bert_embeddings)\n",
        "\n",
        "# test[\"Ученая степень 1\"] = test[\"Ученая степень 1\"].apply(get_bert_embeddings)\n",
        "# test[\"Ученое звание 1\"] = test[\"Ученое звание 1\"].apply(get_bert_embeddings)\n",
        "test['status'] = test['status'].apply(get_bert_embeddings)"
      ]
    },
    {
      "cell_type": "code",
      "execution_count": null,
      "metadata": {
        "id": "ZKoeA4f5_zj3",
        "colab": {
          "base_uri": "https://localhost:8080/"
        },
        "outputId": "38555386-1ab8-44b2-c4ce-9f5693967964"
      },
      "outputs": [
        {
          "output_type": "stream",
          "name": "stdout",
          "text": [
            "CPU times: user 2min 2s, sys: 299 ms, total: 2min 3s\n",
            "Wall time: 2min 3s\n"
          ]
        }
      ],
      "source": [
        "%%time\n",
        "data[\"Факультет\"] = data[\"Факультет\"].apply(get_bert_embeddings)\n",
        "data[\"Специальность\"] = data[\"Специальность\"].apply(get_bert_embeddings)\n",
        "\n",
        "test[\"Факультет\"] = test[\"Факультет\"].apply(get_bert_embeddings)\n",
        "test[\"Специальность\"] = test[\"Специальность\"].apply(get_bert_embeddings)"
      ]
    },
    {
      "cell_type": "code",
      "execution_count": null,
      "metadata": {
        "id": "V2os6-oB_5l5",
        "colab": {
          "base_uri": "https://localhost:8080/"
        },
        "outputId": "f9c851dc-7d96-4ffa-8d21-99dea15f901d"
      },
      "outputs": [
        {
          "output_type": "stream",
          "name": "stdout",
          "text": [
            "CPU times: user 1min 59s, sys: 325 ms, total: 1min 59s\n",
            "Wall time: 1min 59s\n"
          ]
        }
      ],
      "source": [
        "%%time\n",
        "data[\"Факультет_2\"] = data[\"Факультет_2\"].apply(get_bert_embeddings)\n",
        "data[\"Специальность_2\"] = data[\"Специальность_2\"].apply(get_bert_embeddings)\n",
        "\n",
        "test[\"Факультет_2\"] = test[\"Факультет_2\"].apply(get_bert_embeddings)\n",
        "test[\"Специальность_2\"] = test[\"Специальность_2\"].apply(get_bert_embeddings)"
      ]
    },
    {
      "cell_type": "code",
      "source": [
        "data"
      ],
      "metadata": {
        "id": "9PQfWIWK1hl6",
        "colab": {
          "base_uri": "https://localhost:8080/",
          "height": 1000
        },
        "outputId": "dab164d8-2015-4cee-9c99-597d8a6991a2"
      },
      "execution_count": null,
      "outputs": [
        {
          "output_type": "execute_result",
          "data": {
            "text/plain": [
              "      предмет  tutor_rating  tutor_reviews  \\\n",
              "0           1           5.0              2   \n",
              "1           1           4.0              7   \n",
              "2           0           0.0              0   \n",
              "3           1           4.0             19   \n",
              "4           1           0.0              0   \n",
              "...       ...           ...            ...   \n",
              "4543        1           4.0             11   \n",
              "4544        0           0.0              0   \n",
              "4545        0           0.0              0   \n",
              "4546        0           0.0              0   \n",
              "4547        1           0.0              0   \n",
              "\n",
              "                                            description  \\\n",
              "0     [0.30990767, 0.42106947, -0.07309379, -0.38381...   \n",
              "1     [0.30990767, 0.42106947, -0.07309379, -0.38381...   \n",
              "2     [0.30990767, 0.42106947, -0.07309379, -0.38381...   \n",
              "3     [0.30990767, 0.42106947, -0.07309379, -0.38381...   \n",
              "4     [0.30990767, 0.42106947, -0.07309379, -0.38381...   \n",
              "...                                                 ...   \n",
              "4543  [0.30990767, 0.42106947, -0.07309379, -0.38381...   \n",
              "4544  [0.30990767, 0.42106947, -0.07309379, -0.38381...   \n",
              "4545  [0.30990767, 0.42106947, -0.07309379, -0.38381...   \n",
              "4546  [0.30990767, 0.42106947, -0.07309379, -0.38381...   \n",
              "4547  [0.30990767, 0.42106947, -0.07309379, -0.38381...   \n",
              "\n",
              "                                        experience_desc  \\\n",
              "0     [0.30990767, 0.42106947, -0.07309379, -0.38381...   \n",
              "1     [0.30990767, 0.42106947, -0.07309379, -0.38381...   \n",
              "2     [0.27011684, -0.43876013, -0.3668052, 0.021646...   \n",
              "3     [0.30990767, 0.42106947, -0.07309379, -0.38381...   \n",
              "4     [0.3203539, -0.48803455, -0.2765971, 0.0509304...   \n",
              "...                                                 ...   \n",
              "4543  [0.30990767, 0.42106947, -0.07309379, -0.38381...   \n",
              "4544  [0.07574693, -0.23860742, -0.14794077, 0.18900...   \n",
              "4545  [-0.007578776, -0.38520017, 0.33168018, -0.347...   \n",
              "4546  [0.031247333, -0.11071203, -0.304489, 0.006215...   \n",
              "4547  [-0.007578776, -0.38520017, 0.33168018, -0.347...   \n",
              "\n",
              "                                            Education_1  \\\n",
              "0     [0.24656117, -0.042266667, -0.16662845, -0.280...   \n",
              "1     [-0.0026722872, 0.0025400305, -0.19151776, -0....   \n",
              "2     [0.05722283, 0.011893911, -0.19617978, -0.0850...   \n",
              "3     [0.012212579, 0.0084087625, -0.122292526, -0.1...   \n",
              "4     [0.034512945, -0.00618839, -0.10463297, -0.075...   \n",
              "...                                                 ...   \n",
              "4543  [0.26776558, 0.08113125, -0.10478261, -0.10476...   \n",
              "4544  [0.13777888, 0.06969793, -0.23144247, 0.051343...   \n",
              "4545  [0.107586704, -0.014726989, -0.16020343, -0.08...   \n",
              "4546  [0.5383523, 0.18719424, 0.018957224, 0.0727657...   \n",
              "4547  [-0.12962209, -0.034860924, -0.36851448, -0.13...   \n",
              "\n",
              "                                            Education_2  \\\n",
              "0     [0.30990767, 0.42106947, -0.07309379, -0.38381...   \n",
              "1     [0.033495363, 0.008373867, -0.18259296, -0.041...   \n",
              "2     [0.26747897, -0.18786845, -0.44754976, -0.1092...   \n",
              "3     [0.30990767, 0.42106947, -0.07309379, -0.38381...   \n",
              "4     [0.30990767, 0.42106947, -0.07309379, -0.38381...   \n",
              "...                                                 ...   \n",
              "4543  [0.30990767, 0.42106947, -0.07309379, -0.38381...   \n",
              "4544  [0.30990767, 0.42106947, -0.07309379, -0.38381...   \n",
              "4545  [0.30990767, 0.42106947, -0.07309379, -0.38381...   \n",
              "4546  [0.30990767, 0.42106947, -0.07309379, -0.38381...   \n",
              "4547  [0.30990767, 0.42106947, -0.07309379, -0.38381...   \n",
              "\n",
              "                                                 status  experience  \\\n",
              "0     [0.13209805, 0.01904457, -0.13745566, 0.024669...          31   \n",
              "1     [0.0015867423, 0.04019443, -0.08974729, -0.038...           8   \n",
              "2     [0.0015867423, 0.04019443, -0.08974729, -0.038...          11   \n",
              "3     [-0.0036443414, 0.04361283, -0.08343982, -0.00...           5   \n",
              "4     [-0.0036443414, 0.04361283, -0.08343982, -0.00...          19   \n",
              "...                                                 ...         ...   \n",
              "4543  [-0.0036443414, 0.04361283, -0.08343982, -0.00...           5   \n",
              "4544  [0.0015867423, 0.04019443, -0.08974729, -0.038...          30   \n",
              "4545  [0.12876455, 0.011511735, -0.04721148, 0.01556...           6   \n",
              "4546  [0.12876455, 0.011511735, -0.04721148, 0.01556...           1   \n",
              "4547  [0.12876455, 0.011511735, -0.04721148, 0.01556...           4   \n",
              "\n",
              "      mean_price  ...  Студенты университетов в паре  \\\n",
              "0      16.666667  ...                              0   \n",
              "1      11.666667  ...                              0   \n",
              "2      23.333333  ...                              0   \n",
              "3       0.116667  ...                              0   \n",
              "4      16.666667  ...                              0   \n",
              "...          ...  ...                            ...   \n",
              "4543   16.666667  ...                              0   \n",
              "4544   33.333333  ...                              0   \n",
              "4545   23.333333  ...                              0   \n",
              "4546    9.722222  ...                              0   \n",
              "4547   11.111111  ...                              0   \n",
              "\n",
              "      Школьники с 1 по 4 класс  Школьники с 1 по 4 класс в паре  \\\n",
              "0                            0                                0   \n",
              "1                            0                                0   \n",
              "2                            0                                0   \n",
              "3                            1                                0   \n",
              "4                            0                                0   \n",
              "...                        ...                              ...   \n",
              "4543                         1                                0   \n",
              "4544                         0                                0   \n",
              "4545                         0                                0   \n",
              "4546                         0                                0   \n",
              "4547                         1                                0   \n",
              "\n",
              "      Школьники с 1 по 4 класс группа  \\\n",
              "0                                   0   \n",
              "1                                   0   \n",
              "2                                   0   \n",
              "3                                   0   \n",
              "4                                   0   \n",
              "...                               ...   \n",
              "4543                                0   \n",
              "4544                                0   \n",
              "4545                                0   \n",
              "4546                                0   \n",
              "4547                                0   \n",
              "\n",
              "      Школьники с 10 по 11 класс, студенты колледжей и техникумов, абитуриенты  \\\n",
              "0                                                     1                          \n",
              "1                                                     1                          \n",
              "2                                                     1                          \n",
              "3                                                     1                          \n",
              "4                                                     1                          \n",
              "...                                                 ...                          \n",
              "4543                                                  1                          \n",
              "4544                                                  0                          \n",
              "4545                                                  1                          \n",
              "4546                                                  1                          \n",
              "4547                                                  0                          \n",
              "\n",
              "      Школьники с 10 по 11 класс, студенты колледжей и техникумов, абитуриенты в паре  \\\n",
              "0                                                     0                                 \n",
              "1                                                     0                                 \n",
              "2                                                     0                                 \n",
              "3                                                     0                                 \n",
              "4                                                     0                                 \n",
              "...                                                 ...                                 \n",
              "4543                                                  0                                 \n",
              "4544                                                  0                                 \n",
              "4545                                                  0                                 \n",
              "4546                                                  0                                 \n",
              "4547                                                  0                                 \n",
              "\n",
              "      Школьники с 10 по 11 класс, студенты колледжей и техникумов, абитуриенты группа  \\\n",
              "0                                                     0                                 \n",
              "1                                                     0                                 \n",
              "2                                                     0                                 \n",
              "3                                                     0                                 \n",
              "4                                                     0                                 \n",
              "...                                                 ...                                 \n",
              "4543                                                  0                                 \n",
              "4544                                                  0                                 \n",
              "4545                                                  0                                 \n",
              "4546                                                  0                                 \n",
              "4547                                                  0                                 \n",
              "\n",
              "      Школьники с 5 по 9 класс  Школьники с 5 по 9 класс в паре  \\\n",
              "0                            1                                0   \n",
              "1                            1                                0   \n",
              "2                            1                                0   \n",
              "3                            1                                0   \n",
              "4                            1                                0   \n",
              "...                        ...                              ...   \n",
              "4543                         1                                0   \n",
              "4544                         1                                0   \n",
              "4545                         1                                0   \n",
              "4546                         1                                0   \n",
              "4547                         1                                1   \n",
              "\n",
              "      Школьники с 5 по 9 класс группа  \n",
              "0                                   0  \n",
              "1                                   0  \n",
              "2                                   0  \n",
              "3                                   0  \n",
              "4                                   0  \n",
              "...                               ...  \n",
              "4543                                0  \n",
              "4544                                0  \n",
              "4545                                0  \n",
              "4546                                0  \n",
              "4547                                0  \n",
              "\n",
              "[4548 rows x 52 columns]"
            ],
            "text/html": [
              "\n",
              "  <div id=\"df-c0dfcf93-b0da-4843-81e8-bd29446292c4\" class=\"colab-df-container\">\n",
              "    <div>\n",
              "<style scoped>\n",
              "    .dataframe tbody tr th:only-of-type {\n",
              "        vertical-align: middle;\n",
              "    }\n",
              "\n",
              "    .dataframe tbody tr th {\n",
              "        vertical-align: top;\n",
              "    }\n",
              "\n",
              "    .dataframe thead th {\n",
              "        text-align: right;\n",
              "    }\n",
              "</style>\n",
              "<table border=\"1\" class=\"dataframe\">\n",
              "  <thead>\n",
              "    <tr style=\"text-align: right;\">\n",
              "      <th></th>\n",
              "      <th>предмет</th>\n",
              "      <th>tutor_rating</th>\n",
              "      <th>tutor_reviews</th>\n",
              "      <th>description</th>\n",
              "      <th>experience_desc</th>\n",
              "      <th>Education_1</th>\n",
              "      <th>Education_2</th>\n",
              "      <th>status</th>\n",
              "      <th>experience</th>\n",
              "      <th>mean_price</th>\n",
              "      <th>...</th>\n",
              "      <th>Студенты университетов в паре</th>\n",
              "      <th>Школьники с 1 по 4 класс</th>\n",
              "      <th>Школьники с 1 по 4 класс в паре</th>\n",
              "      <th>Школьники с 1 по 4 класс группа</th>\n",
              "      <th>Школьники с 10 по 11 класс, студенты колледжей и техникумов, абитуриенты</th>\n",
              "      <th>Школьники с 10 по 11 класс, студенты колледжей и техникумов, абитуриенты в паре</th>\n",
              "      <th>Школьники с 10 по 11 класс, студенты колледжей и техникумов, абитуриенты группа</th>\n",
              "      <th>Школьники с 5 по 9 класс</th>\n",
              "      <th>Школьники с 5 по 9 класс в паре</th>\n",
              "      <th>Школьники с 5 по 9 класс группа</th>\n",
              "    </tr>\n",
              "  </thead>\n",
              "  <tbody>\n",
              "    <tr>\n",
              "      <th>0</th>\n",
              "      <td>1</td>\n",
              "      <td>5.0</td>\n",
              "      <td>2</td>\n",
              "      <td>[0.30990767, 0.42106947, -0.07309379, -0.38381...</td>\n",
              "      <td>[0.30990767, 0.42106947, -0.07309379, -0.38381...</td>\n",
              "      <td>[0.24656117, -0.042266667, -0.16662845, -0.280...</td>\n",
              "      <td>[0.30990767, 0.42106947, -0.07309379, -0.38381...</td>\n",
              "      <td>[0.13209805, 0.01904457, -0.13745566, 0.024669...</td>\n",
              "      <td>31</td>\n",
              "      <td>16.666667</td>\n",
              "      <td>...</td>\n",
              "      <td>0</td>\n",
              "      <td>0</td>\n",
              "      <td>0</td>\n",
              "      <td>0</td>\n",
              "      <td>1</td>\n",
              "      <td>0</td>\n",
              "      <td>0</td>\n",
              "      <td>1</td>\n",
              "      <td>0</td>\n",
              "      <td>0</td>\n",
              "    </tr>\n",
              "    <tr>\n",
              "      <th>1</th>\n",
              "      <td>1</td>\n",
              "      <td>4.0</td>\n",
              "      <td>7</td>\n",
              "      <td>[0.30990767, 0.42106947, -0.07309379, -0.38381...</td>\n",
              "      <td>[0.30990767, 0.42106947, -0.07309379, -0.38381...</td>\n",
              "      <td>[-0.0026722872, 0.0025400305, -0.19151776, -0....</td>\n",
              "      <td>[0.033495363, 0.008373867, -0.18259296, -0.041...</td>\n",
              "      <td>[0.0015867423, 0.04019443, -0.08974729, -0.038...</td>\n",
              "      <td>8</td>\n",
              "      <td>11.666667</td>\n",
              "      <td>...</td>\n",
              "      <td>0</td>\n",
              "      <td>0</td>\n",
              "      <td>0</td>\n",
              "      <td>0</td>\n",
              "      <td>1</td>\n",
              "      <td>0</td>\n",
              "      <td>0</td>\n",
              "      <td>1</td>\n",
              "      <td>0</td>\n",
              "      <td>0</td>\n",
              "    </tr>\n",
              "    <tr>\n",
              "      <th>2</th>\n",
              "      <td>0</td>\n",
              "      <td>0.0</td>\n",
              "      <td>0</td>\n",
              "      <td>[0.30990767, 0.42106947, -0.07309379, -0.38381...</td>\n",
              "      <td>[0.27011684, -0.43876013, -0.3668052, 0.021646...</td>\n",
              "      <td>[0.05722283, 0.011893911, -0.19617978, -0.0850...</td>\n",
              "      <td>[0.26747897, -0.18786845, -0.44754976, -0.1092...</td>\n",
              "      <td>[0.0015867423, 0.04019443, -0.08974729, -0.038...</td>\n",
              "      <td>11</td>\n",
              "      <td>23.333333</td>\n",
              "      <td>...</td>\n",
              "      <td>0</td>\n",
              "      <td>0</td>\n",
              "      <td>0</td>\n",
              "      <td>0</td>\n",
              "      <td>1</td>\n",
              "      <td>0</td>\n",
              "      <td>0</td>\n",
              "      <td>1</td>\n",
              "      <td>0</td>\n",
              "      <td>0</td>\n",
              "    </tr>\n",
              "    <tr>\n",
              "      <th>3</th>\n",
              "      <td>1</td>\n",
              "      <td>4.0</td>\n",
              "      <td>19</td>\n",
              "      <td>[0.30990767, 0.42106947, -0.07309379, -0.38381...</td>\n",
              "      <td>[0.30990767, 0.42106947, -0.07309379, -0.38381...</td>\n",
              "      <td>[0.012212579, 0.0084087625, -0.122292526, -0.1...</td>\n",
              "      <td>[0.30990767, 0.42106947, -0.07309379, -0.38381...</td>\n",
              "      <td>[-0.0036443414, 0.04361283, -0.08343982, -0.00...</td>\n",
              "      <td>5</td>\n",
              "      <td>0.116667</td>\n",
              "      <td>...</td>\n",
              "      <td>0</td>\n",
              "      <td>1</td>\n",
              "      <td>0</td>\n",
              "      <td>0</td>\n",
              "      <td>1</td>\n",
              "      <td>0</td>\n",
              "      <td>0</td>\n",
              "      <td>1</td>\n",
              "      <td>0</td>\n",
              "      <td>0</td>\n",
              "    </tr>\n",
              "    <tr>\n",
              "      <th>4</th>\n",
              "      <td>1</td>\n",
              "      <td>0.0</td>\n",
              "      <td>0</td>\n",
              "      <td>[0.30990767, 0.42106947, -0.07309379, -0.38381...</td>\n",
              "      <td>[0.3203539, -0.48803455, -0.2765971, 0.0509304...</td>\n",
              "      <td>[0.034512945, -0.00618839, -0.10463297, -0.075...</td>\n",
              "      <td>[0.30990767, 0.42106947, -0.07309379, -0.38381...</td>\n",
              "      <td>[-0.0036443414, 0.04361283, -0.08343982, -0.00...</td>\n",
              "      <td>19</td>\n",
              "      <td>16.666667</td>\n",
              "      <td>...</td>\n",
              "      <td>0</td>\n",
              "      <td>0</td>\n",
              "      <td>0</td>\n",
              "      <td>0</td>\n",
              "      <td>1</td>\n",
              "      <td>0</td>\n",
              "      <td>0</td>\n",
              "      <td>1</td>\n",
              "      <td>0</td>\n",
              "      <td>0</td>\n",
              "    </tr>\n",
              "    <tr>\n",
              "      <th>...</th>\n",
              "      <td>...</td>\n",
              "      <td>...</td>\n",
              "      <td>...</td>\n",
              "      <td>...</td>\n",
              "      <td>...</td>\n",
              "      <td>...</td>\n",
              "      <td>...</td>\n",
              "      <td>...</td>\n",
              "      <td>...</td>\n",
              "      <td>...</td>\n",
              "      <td>...</td>\n",
              "      <td>...</td>\n",
              "      <td>...</td>\n",
              "      <td>...</td>\n",
              "      <td>...</td>\n",
              "      <td>...</td>\n",
              "      <td>...</td>\n",
              "      <td>...</td>\n",
              "      <td>...</td>\n",
              "      <td>...</td>\n",
              "      <td>...</td>\n",
              "    </tr>\n",
              "    <tr>\n",
              "      <th>4543</th>\n",
              "      <td>1</td>\n",
              "      <td>4.0</td>\n",
              "      <td>11</td>\n",
              "      <td>[0.30990767, 0.42106947, -0.07309379, -0.38381...</td>\n",
              "      <td>[0.30990767, 0.42106947, -0.07309379, -0.38381...</td>\n",
              "      <td>[0.26776558, 0.08113125, -0.10478261, -0.10476...</td>\n",
              "      <td>[0.30990767, 0.42106947, -0.07309379, -0.38381...</td>\n",
              "      <td>[-0.0036443414, 0.04361283, -0.08343982, -0.00...</td>\n",
              "      <td>5</td>\n",
              "      <td>16.666667</td>\n",
              "      <td>...</td>\n",
              "      <td>0</td>\n",
              "      <td>1</td>\n",
              "      <td>0</td>\n",
              "      <td>0</td>\n",
              "      <td>1</td>\n",
              "      <td>0</td>\n",
              "      <td>0</td>\n",
              "      <td>1</td>\n",
              "      <td>0</td>\n",
              "      <td>0</td>\n",
              "    </tr>\n",
              "    <tr>\n",
              "      <th>4544</th>\n",
              "      <td>0</td>\n",
              "      <td>0.0</td>\n",
              "      <td>0</td>\n",
              "      <td>[0.30990767, 0.42106947, -0.07309379, -0.38381...</td>\n",
              "      <td>[0.07574693, -0.23860742, -0.14794077, 0.18900...</td>\n",
              "      <td>[0.13777888, 0.06969793, -0.23144247, 0.051343...</td>\n",
              "      <td>[0.30990767, 0.42106947, -0.07309379, -0.38381...</td>\n",
              "      <td>[0.0015867423, 0.04019443, -0.08974729, -0.038...</td>\n",
              "      <td>30</td>\n",
              "      <td>33.333333</td>\n",
              "      <td>...</td>\n",
              "      <td>0</td>\n",
              "      <td>0</td>\n",
              "      <td>0</td>\n",
              "      <td>0</td>\n",
              "      <td>0</td>\n",
              "      <td>0</td>\n",
              "      <td>0</td>\n",
              "      <td>1</td>\n",
              "      <td>0</td>\n",
              "      <td>0</td>\n",
              "    </tr>\n",
              "    <tr>\n",
              "      <th>4545</th>\n",
              "      <td>0</td>\n",
              "      <td>0.0</td>\n",
              "      <td>0</td>\n",
              "      <td>[0.30990767, 0.42106947, -0.07309379, -0.38381...</td>\n",
              "      <td>[-0.007578776, -0.38520017, 0.33168018, -0.347...</td>\n",
              "      <td>[0.107586704, -0.014726989, -0.16020343, -0.08...</td>\n",
              "      <td>[0.30990767, 0.42106947, -0.07309379, -0.38381...</td>\n",
              "      <td>[0.12876455, 0.011511735, -0.04721148, 0.01556...</td>\n",
              "      <td>6</td>\n",
              "      <td>23.333333</td>\n",
              "      <td>...</td>\n",
              "      <td>0</td>\n",
              "      <td>0</td>\n",
              "      <td>0</td>\n",
              "      <td>0</td>\n",
              "      <td>1</td>\n",
              "      <td>0</td>\n",
              "      <td>0</td>\n",
              "      <td>1</td>\n",
              "      <td>0</td>\n",
              "      <td>0</td>\n",
              "    </tr>\n",
              "    <tr>\n",
              "      <th>4546</th>\n",
              "      <td>0</td>\n",
              "      <td>0.0</td>\n",
              "      <td>0</td>\n",
              "      <td>[0.30990767, 0.42106947, -0.07309379, -0.38381...</td>\n",
              "      <td>[0.031247333, -0.11071203, -0.304489, 0.006215...</td>\n",
              "      <td>[0.5383523, 0.18719424, 0.018957224, 0.0727657...</td>\n",
              "      <td>[0.30990767, 0.42106947, -0.07309379, -0.38381...</td>\n",
              "      <td>[0.12876455, 0.011511735, -0.04721148, 0.01556...</td>\n",
              "      <td>1</td>\n",
              "      <td>9.722222</td>\n",
              "      <td>...</td>\n",
              "      <td>0</td>\n",
              "      <td>0</td>\n",
              "      <td>0</td>\n",
              "      <td>0</td>\n",
              "      <td>1</td>\n",
              "      <td>0</td>\n",
              "      <td>0</td>\n",
              "      <td>1</td>\n",
              "      <td>0</td>\n",
              "      <td>0</td>\n",
              "    </tr>\n",
              "    <tr>\n",
              "      <th>4547</th>\n",
              "      <td>1</td>\n",
              "      <td>0.0</td>\n",
              "      <td>0</td>\n",
              "      <td>[0.30990767, 0.42106947, -0.07309379, -0.38381...</td>\n",
              "      <td>[-0.007578776, -0.38520017, 0.33168018, -0.347...</td>\n",
              "      <td>[-0.12962209, -0.034860924, -0.36851448, -0.13...</td>\n",
              "      <td>[0.30990767, 0.42106947, -0.07309379, -0.38381...</td>\n",
              "      <td>[0.12876455, 0.011511735, -0.04721148, 0.01556...</td>\n",
              "      <td>4</td>\n",
              "      <td>11.111111</td>\n",
              "      <td>...</td>\n",
              "      <td>0</td>\n",
              "      <td>1</td>\n",
              "      <td>0</td>\n",
              "      <td>0</td>\n",
              "      <td>0</td>\n",
              "      <td>0</td>\n",
              "      <td>0</td>\n",
              "      <td>1</td>\n",
              "      <td>1</td>\n",
              "      <td>0</td>\n",
              "    </tr>\n",
              "  </tbody>\n",
              "</table>\n",
              "<p>4548 rows × 52 columns</p>\n",
              "</div>\n",
              "    <div class=\"colab-df-buttons\">\n",
              "\n",
              "  <div class=\"colab-df-container\">\n",
              "    <button class=\"colab-df-convert\" onclick=\"convertToInteractive('df-c0dfcf93-b0da-4843-81e8-bd29446292c4')\"\n",
              "            title=\"Convert this dataframe to an interactive table.\"\n",
              "            style=\"display:none;\">\n",
              "\n",
              "  <svg xmlns=\"http://www.w3.org/2000/svg\" height=\"24px\" viewBox=\"0 -960 960 960\">\n",
              "    <path d=\"M120-120v-720h720v720H120Zm60-500h600v-160H180v160Zm220 220h160v-160H400v160Zm0 220h160v-160H400v160ZM180-400h160v-160H180v160Zm440 0h160v-160H620v160ZM180-180h160v-160H180v160Zm440 0h160v-160H620v160Z\"/>\n",
              "  </svg>\n",
              "    </button>\n",
              "\n",
              "  <style>\n",
              "    .colab-df-container {\n",
              "      display:flex;\n",
              "      gap: 12px;\n",
              "    }\n",
              "\n",
              "    .colab-df-convert {\n",
              "      background-color: #E8F0FE;\n",
              "      border: none;\n",
              "      border-radius: 50%;\n",
              "      cursor: pointer;\n",
              "      display: none;\n",
              "      fill: #1967D2;\n",
              "      height: 32px;\n",
              "      padding: 0 0 0 0;\n",
              "      width: 32px;\n",
              "    }\n",
              "\n",
              "    .colab-df-convert:hover {\n",
              "      background-color: #E2EBFA;\n",
              "      box-shadow: 0px 1px 2px rgba(60, 64, 67, 0.3), 0px 1px 3px 1px rgba(60, 64, 67, 0.15);\n",
              "      fill: #174EA6;\n",
              "    }\n",
              "\n",
              "    .colab-df-buttons div {\n",
              "      margin-bottom: 4px;\n",
              "    }\n",
              "\n",
              "    [theme=dark] .colab-df-convert {\n",
              "      background-color: #3B4455;\n",
              "      fill: #D2E3FC;\n",
              "    }\n",
              "\n",
              "    [theme=dark] .colab-df-convert:hover {\n",
              "      background-color: #434B5C;\n",
              "      box-shadow: 0px 1px 3px 1px rgba(0, 0, 0, 0.15);\n",
              "      filter: drop-shadow(0px 1px 2px rgba(0, 0, 0, 0.3));\n",
              "      fill: #FFFFFF;\n",
              "    }\n",
              "  </style>\n",
              "\n",
              "    <script>\n",
              "      const buttonEl =\n",
              "        document.querySelector('#df-c0dfcf93-b0da-4843-81e8-bd29446292c4 button.colab-df-convert');\n",
              "      buttonEl.style.display =\n",
              "        google.colab.kernel.accessAllowed ? 'block' : 'none';\n",
              "\n",
              "      async function convertToInteractive(key) {\n",
              "        const element = document.querySelector('#df-c0dfcf93-b0da-4843-81e8-bd29446292c4');\n",
              "        const dataTable =\n",
              "          await google.colab.kernel.invokeFunction('convertToInteractive',\n",
              "                                                    [key], {});\n",
              "        if (!dataTable) return;\n",
              "\n",
              "        const docLinkHtml = 'Like what you see? Visit the ' +\n",
              "          '<a target=\"_blank\" href=https://colab.research.google.com/notebooks/data_table.ipynb>data table notebook</a>'\n",
              "          + ' to learn more about interactive tables.';\n",
              "        element.innerHTML = '';\n",
              "        dataTable['output_type'] = 'display_data';\n",
              "        await google.colab.output.renderOutput(dataTable, element);\n",
              "        const docLink = document.createElement('div');\n",
              "        docLink.innerHTML = docLinkHtml;\n",
              "        element.appendChild(docLink);\n",
              "      }\n",
              "    </script>\n",
              "  </div>\n",
              "\n",
              "\n",
              "<div id=\"df-2f2b2f6e-aed8-4032-b241-51ab98c903fa\">\n",
              "  <button class=\"colab-df-quickchart\" onclick=\"quickchart('df-2f2b2f6e-aed8-4032-b241-51ab98c903fa')\"\n",
              "            title=\"Suggest charts\"\n",
              "            style=\"display:none;\">\n",
              "\n",
              "<svg xmlns=\"http://www.w3.org/2000/svg\" height=\"24px\"viewBox=\"0 0 24 24\"\n",
              "     width=\"24px\">\n",
              "    <g>\n",
              "        <path d=\"M19 3H5c-1.1 0-2 .9-2 2v14c0 1.1.9 2 2 2h14c1.1 0 2-.9 2-2V5c0-1.1-.9-2-2-2zM9 17H7v-7h2v7zm4 0h-2V7h2v10zm4 0h-2v-4h2v4z\"/>\n",
              "    </g>\n",
              "</svg>\n",
              "  </button>\n",
              "\n",
              "<style>\n",
              "  .colab-df-quickchart {\n",
              "      --bg-color: #E8F0FE;\n",
              "      --fill-color: #1967D2;\n",
              "      --hover-bg-color: #E2EBFA;\n",
              "      --hover-fill-color: #174EA6;\n",
              "      --disabled-fill-color: #AAA;\n",
              "      --disabled-bg-color: #DDD;\n",
              "  }\n",
              "\n",
              "  [theme=dark] .colab-df-quickchart {\n",
              "      --bg-color: #3B4455;\n",
              "      --fill-color: #D2E3FC;\n",
              "      --hover-bg-color: #434B5C;\n",
              "      --hover-fill-color: #FFFFFF;\n",
              "      --disabled-bg-color: #3B4455;\n",
              "      --disabled-fill-color: #666;\n",
              "  }\n",
              "\n",
              "  .colab-df-quickchart {\n",
              "    background-color: var(--bg-color);\n",
              "    border: none;\n",
              "    border-radius: 50%;\n",
              "    cursor: pointer;\n",
              "    display: none;\n",
              "    fill: var(--fill-color);\n",
              "    height: 32px;\n",
              "    padding: 0;\n",
              "    width: 32px;\n",
              "  }\n",
              "\n",
              "  .colab-df-quickchart:hover {\n",
              "    background-color: var(--hover-bg-color);\n",
              "    box-shadow: 0 1px 2px rgba(60, 64, 67, 0.3), 0 1px 3px 1px rgba(60, 64, 67, 0.15);\n",
              "    fill: var(--button-hover-fill-color);\n",
              "  }\n",
              "\n",
              "  .colab-df-quickchart-complete:disabled,\n",
              "  .colab-df-quickchart-complete:disabled:hover {\n",
              "    background-color: var(--disabled-bg-color);\n",
              "    fill: var(--disabled-fill-color);\n",
              "    box-shadow: none;\n",
              "  }\n",
              "\n",
              "  .colab-df-spinner {\n",
              "    border: 2px solid var(--fill-color);\n",
              "    border-color: transparent;\n",
              "    border-bottom-color: var(--fill-color);\n",
              "    animation:\n",
              "      spin 1s steps(1) infinite;\n",
              "  }\n",
              "\n",
              "  @keyframes spin {\n",
              "    0% {\n",
              "      border-color: transparent;\n",
              "      border-bottom-color: var(--fill-color);\n",
              "      border-left-color: var(--fill-color);\n",
              "    }\n",
              "    20% {\n",
              "      border-color: transparent;\n",
              "      border-left-color: var(--fill-color);\n",
              "      border-top-color: var(--fill-color);\n",
              "    }\n",
              "    30% {\n",
              "      border-color: transparent;\n",
              "      border-left-color: var(--fill-color);\n",
              "      border-top-color: var(--fill-color);\n",
              "      border-right-color: var(--fill-color);\n",
              "    }\n",
              "    40% {\n",
              "      border-color: transparent;\n",
              "      border-right-color: var(--fill-color);\n",
              "      border-top-color: var(--fill-color);\n",
              "    }\n",
              "    60% {\n",
              "      border-color: transparent;\n",
              "      border-right-color: var(--fill-color);\n",
              "    }\n",
              "    80% {\n",
              "      border-color: transparent;\n",
              "      border-right-color: var(--fill-color);\n",
              "      border-bottom-color: var(--fill-color);\n",
              "    }\n",
              "    90% {\n",
              "      border-color: transparent;\n",
              "      border-bottom-color: var(--fill-color);\n",
              "    }\n",
              "  }\n",
              "</style>\n",
              "\n",
              "  <script>\n",
              "    async function quickchart(key) {\n",
              "      const quickchartButtonEl =\n",
              "        document.querySelector('#' + key + ' button');\n",
              "      quickchartButtonEl.disabled = true;  // To prevent multiple clicks.\n",
              "      quickchartButtonEl.classList.add('colab-df-spinner');\n",
              "      try {\n",
              "        const charts = await google.colab.kernel.invokeFunction(\n",
              "            'suggestCharts', [key], {});\n",
              "      } catch (error) {\n",
              "        console.error('Error during call to suggestCharts:', error);\n",
              "      }\n",
              "      quickchartButtonEl.classList.remove('colab-df-spinner');\n",
              "      quickchartButtonEl.classList.add('colab-df-quickchart-complete');\n",
              "    }\n",
              "    (() => {\n",
              "      let quickchartButtonEl =\n",
              "        document.querySelector('#df-2f2b2f6e-aed8-4032-b241-51ab98c903fa button');\n",
              "      quickchartButtonEl.style.display =\n",
              "        google.colab.kernel.accessAllowed ? 'block' : 'none';\n",
              "    })();\n",
              "  </script>\n",
              "</div>\n",
              "    </div>\n",
              "  </div>\n"
            ],
            "application/vnd.google.colaboratory.intrinsic+json": {
              "type": "dataframe",
              "variable_name": "data"
            }
          },
          "metadata": {},
          "execution_count": 48
        }
      ]
    },
    {
      "cell_type": "code",
      "execution_count": null,
      "metadata": {
        "id": "voMrAYf8_8b-"
      },
      "outputs": [],
      "source": [
        "# %%time\n",
        "# data[\"Факультет_3\"] = data[\"Факультет_3\"].apply(get_bert_embeddings)\n",
        "# data[\"Специальность_3\"] = data[\"Специальность_3\"].apply(get_bert_embeddings)\n",
        "\n",
        "# test[\"Факультет_3\"] = test[\"Факультет_3\"].apply(get_bert_embeddings)\n",
        "# test[\"Специальность_3\"] = test[\"Специальность_3\"].apply(get_bert_embeddings)"
      ]
    },
    {
      "cell_type": "code",
      "execution_count": null,
      "metadata": {
        "id": "1o0spKWj_9Mh"
      },
      "outputs": [],
      "source": [
        "# %%time\n",
        "# data[\"Факультет_4\"] = data[\"Факультет_4\"].apply(get_bert_embeddings)\n",
        "# data[\"Специальность_4\"] = data[\"Специальность_4\"].apply(get_bert_embeddings)\n",
        "\n",
        "# test[\"Факультет_4\"] = test[\"Факультет_4\"].apply(get_bert_embeddings)\n",
        "# test[\"Специальность_4\"] = test[\"Специальность_4\"].apply(get_bert_embeddings)"
      ]
    },
    {
      "cell_type": "code",
      "execution_count": null,
      "metadata": {
        "id": "ospeCPJ2DYfg"
      },
      "outputs": [],
      "source": [
        "emb_columns = ['Education_1', 'Education_2', 'description', 'experience_desc', 'status', 'Факультет', 'Специальность', 'Факультет_2', 'Специальность_2']"
      ]
    },
    {
      "cell_type": "markdown",
      "source": [
        "Наши модели не могут принимать массивы чисел на вход, поэтому разделим эти массивы, образовав новые признаки"
      ],
      "metadata": {
        "id": "aoZ58ALGQClA"
      }
    },
    {
      "cell_type": "code",
      "execution_count": null,
      "metadata": {
        "id": "MKkoL6svSHI8"
      },
      "outputs": [],
      "source": [
        "k = 0\n",
        "for column in emb_columns:\n",
        "  for i in range(768):\n",
        "    data[f'feature_{i+1000*k}'] = data[column].apply(lambda x: x[i])\n",
        "  k += 1"
      ]
    },
    {
      "cell_type": "code",
      "execution_count": null,
      "metadata": {
        "id": "8Mfn3OV5ZvVq"
      },
      "outputs": [],
      "source": [
        "k = 0\n",
        "for column in emb_columns:\n",
        "  for i in range(768):\n",
        "    test[f'feature_{i+1000*k}'] = test[column].apply(lambda x: x[i])\n",
        "  k += 1"
      ]
    },
    {
      "cell_type": "code",
      "execution_count": null,
      "metadata": {
        "id": "60des3JRPocW"
      },
      "outputs": [],
      "source": [
        "data = data.drop(columns = emb_columns)\n",
        "\n",
        "test = test.drop(columns = emb_columns)"
      ]
    },
    {
      "cell_type": "markdown",
      "metadata": {
        "id": "LQXCljKGcbcD"
      },
      "source": [
        "Будем использовать три модели:\n",
        "- Линейная регрессия\n",
        "- Random Forest\n",
        "- Градиентный бустинг (в нашем случае CatBoost и LightGBM)\n"
      ]
    },
    {
      "cell_type": "code",
      "execution_count": null,
      "metadata": {
        "id": "EokMWiRjcSRE"
      },
      "outputs": [],
      "source": [
        "y = data['mean_price']\n",
        "X = data.drop(columns = 'mean_price')"
      ]
    },
    {
      "cell_type": "code",
      "execution_count": null,
      "metadata": {
        "id": "mzMD0prfVgKN"
      },
      "outputs": [],
      "source": [
        "X_train, X_val, y_train, y_val = train_test_split(X, y, test_size=0.3, random_state=42)"
      ]
    },
    {
      "cell_type": "markdown",
      "source": [
        "Подберем параметры"
      ],
      "metadata": {
        "id": "UuE0shaOzPYi"
      }
    },
    {
      "cell_type": "code",
      "source": [
        "# !pip install optuna"
      ],
      "metadata": {
        "id": "2cbgiUrP7olQ"
      },
      "execution_count": null,
      "outputs": []
    },
    {
      "cell_type": "markdown",
      "source": [
        "CatBoost"
      ],
      "metadata": {
        "id": "68D9sAfuoCil"
      }
    },
    {
      "cell_type": "code",
      "source": [
        "# import optuna\n",
        "# def objective_cat(trial):\n",
        "#     params = {\n",
        "#         'iterations': trial.suggest_int('iterations', 900, 1600),\n",
        "#         # 'learning_rate': trial.suggest_loguniform('learning_rate', 0.01, 0.2),\n",
        "#         'depth': trial.suggest_int('depth', 4, 9),\n",
        "#         'l2_leaf_reg': trial.suggest_loguniform('l2_leaf_reg', 1e-4, 1e2),\n",
        "#         'task_type' : 'GPU'\n",
        "#     }\n",
        "\n",
        "#     model = CatBoostRegressor(**params)\n",
        "#     model.fit(X_train, y_train, eval_set=(X_val, y_val), verbose=False)\n",
        "\n",
        "#     y_pred = model.predict(X_val)\n",
        "#     mse = mean_squared_error(y_val, y_pred)\n",
        "\n",
        "#     return mse\n",
        "# study = optuna.create_study(direction='minimize')\n",
        "# study.optimize(objective_cat, n_trials=100)\n",
        "# print(\"Best parameters:\", study.best_params)\n",
        "# print(\"Best MSE:\", study.best_value)\n"
      ],
      "metadata": {
        "id": "M9zCNyrgzSKG"
      },
      "execution_count": null,
      "outputs": []
    },
    {
      "cell_type": "code",
      "source": [
        "params =  {'iterations': 1244,\n",
        "           'learning_rate': 0.04526463173269921,\n",
        "           'depth': 5,\n",
        "           'l2_leaf_reg': 95.70751968265648,\n",
        "           'border_count': 42}"
      ],
      "metadata": {
        "id": "24QiNwOOZdBX"
      },
      "execution_count": null,
      "outputs": []
    },
    {
      "cell_type": "code",
      "source": [
        "cat = CatBoostRegressor(verbose = 100,**params, task_type = 'GPU')\n",
        "cat.fit(X_train,y_train)\n",
        "y_pred = cat.predict(X_val)\n",
        "cat_mse = mean_squared_error(y_val, y_pred)\n",
        "\n",
        "print(\"Mean Squared Error:\", cat_mse)"
      ],
      "metadata": {
        "colab": {
          "base_uri": "https://localhost:8080/"
        },
        "id": "iMBjXhIJ6cmo",
        "outputId": "8b08bce9-63cd-4413-e92c-17c2755089eb"
      },
      "execution_count": null,
      "outputs": [
        {
          "output_type": "stream",
          "name": "stdout",
          "text": [
            "0:\tlearn: 10.3477813\ttotal: 165ms\tremaining: 3m 25s\n",
            "100:\tlearn: 9.0180058\ttotal: 7.28s\tremaining: 1m 22s\n",
            "200:\tlearn: 8.5767167\ttotal: 15.1s\tremaining: 1m 18s\n",
            "300:\tlearn: 8.2422772\ttotal: 23s\tremaining: 1m 12s\n",
            "400:\tlearn: 8.0061543\ttotal: 29.6s\tremaining: 1m 2s\n",
            "500:\tlearn: 7.7991418\ttotal: 37.3s\tremaining: 55.3s\n",
            "600:\tlearn: 7.6195845\ttotal: 44.1s\tremaining: 47.2s\n",
            "700:\tlearn: 7.4611795\ttotal: 51.8s\tremaining: 40.1s\n",
            "800:\tlearn: 7.3152586\ttotal: 58.4s\tremaining: 32.3s\n",
            "900:\tlearn: 7.1810246\ttotal: 1m 5s\tremaining: 24.9s\n",
            "1000:\tlearn: 7.0683720\ttotal: 1m 12s\tremaining: 17.5s\n",
            "1100:\tlearn: 6.9627426\ttotal: 1m 19s\tremaining: 10.3s\n",
            "1200:\tlearn: 6.8672471\ttotal: 1m 26s\tremaining: 3.11s\n",
            "1243:\tlearn: 6.8251930\ttotal: 1m 30s\tremaining: 0us\n",
            "Mean Squared Error: 89.88182314709117\n"
          ]
        }
      ]
    },
    {
      "cell_type": "markdown",
      "source": [
        "Подбирать параметры для RandomForest оказалось очень долго, т.к. нельзя обучать с использованием GPU, поэтому проверили со стандартными параметрами и получили скор хуже (как правило, подбор параметров у RandomForest не дает столь значительный прирост)"
      ],
      "metadata": {
        "id": "muDkebQyoFPm"
      }
    },
    {
      "cell_type": "code",
      "source": [
        "rf = RandomForestRegressor()\n",
        "rf.fit(X_train, y_train)\n",
        "y_pred = rf.predict(X_val)\n",
        "\n",
        "rf_mse = mean_squared_error(y_val, y_pred)\n",
        "\n",
        "print(\"Mean Squared Error:\", rf_mse)"
      ],
      "metadata": {
        "colab": {
          "base_uri": "https://localhost:8080/"
        },
        "id": "Gouii3iEgEZG",
        "outputId": "be72f2be-2716-4a28-ffab-9818ecb34fe7"
      },
      "execution_count": null,
      "outputs": [
        {
          "output_type": "stream",
          "name": "stdout",
          "text": [
            "Mean Squared Error: 95.5339736371957\n"
          ]
        }
      ]
    },
    {
      "cell_type": "code",
      "source": [
        "from sklearn.linear_model import LinearRegression\n",
        "from sklearn.metrics import mean_squared_error\n",
        "\n",
        "lr = LinearRegression()\n",
        "\n",
        "lr.fit(X_train, y_train)\n",
        "\n",
        "y_pred = lr.predict(X_val)\n",
        "\n",
        "lr_mse = mean_squared_error(y_val, y_pred)\n",
        "\n",
        "print(\"Mean Squared Error:\", lr_mse)\n"
      ],
      "metadata": {
        "colab": {
          "base_uri": "https://localhost:8080/"
        },
        "id": "d7uUxzzxcBIY",
        "outputId": "7e192c72-895a-4a48-81a9-70a05898baa4"
      },
      "execution_count": null,
      "outputs": [
        {
          "output_type": "stream",
          "name": "stdout",
          "text": [
            "Mean Squared Error: 1.4363631597498796e+18\n"
          ]
        }
      ]
    },
    {
      "cell_type": "markdown",
      "source": [
        "Видим, что CatBoost показал лучшие результаты"
      ],
      "metadata": {
        "id": "BT44BV9pqJOV"
      }
    },
    {
      "cell_type": "markdown",
      "metadata": {
        "id": "3psw005KllBK"
      },
      "source": [
        "Submission"
      ]
    },
    {
      "cell_type": "code",
      "execution_count": null,
      "metadata": {
        "id": "Zwun6_5jloQf",
        "colab": {
          "base_uri": "https://localhost:8080/"
        },
        "outputId": "ea7e0cdc-efbe-4b5c-e46c-c832006b562c"
      },
      "outputs": [
        {
          "output_type": "stream",
          "name": "stdout",
          "text": [
            "0:\tlearn: 10.4337836\ttotal: 171ms\tremaining: 3m 32s\n",
            "100:\tlearn: 9.1740865\ttotal: 7.97s\tremaining: 1m 30s\n",
            "200:\tlearn: 8.7841916\ttotal: 14.9s\tremaining: 1m 17s\n",
            "300:\tlearn: 8.4557896\ttotal: 22.5s\tremaining: 1m 10s\n",
            "400:\tlearn: 8.2379167\ttotal: 29.7s\tremaining: 1m 2s\n",
            "500:\tlearn: 8.0897551\ttotal: 36.8s\tremaining: 54.6s\n",
            "600:\tlearn: 7.9638197\ttotal: 43.9s\tremaining: 47s\n",
            "700:\tlearn: 7.8524040\ttotal: 50.7s\tremaining: 39.3s\n",
            "800:\tlearn: 7.7639399\ttotal: 58.2s\tremaining: 32.2s\n",
            "900:\tlearn: 7.6686302\ttotal: 1m 4s\tremaining: 24.6s\n",
            "1000:\tlearn: 7.5959624\ttotal: 1m 11s\tremaining: 17.4s\n",
            "1100:\tlearn: 7.5235215\ttotal: 1m 17s\tremaining: 10.1s\n",
            "1200:\tlearn: 7.4559590\ttotal: 1m 25s\tremaining: 3.05s\n",
            "1243:\tlearn: 7.4247926\ttotal: 1m 27s\tremaining: 0us\n"
          ]
        }
      ],
      "source": [
        "cat = CatBoostRegressor(verbose = 100,**params, task_type = 'GPU')\n",
        "cat.fit(X, y)\n",
        "\n",
        "subm = cat.predict(test)"
      ]
    },
    {
      "cell_type": "code",
      "source": [
        "submission = pd.read_csv('/content/sample_submit.csv')"
      ],
      "metadata": {
        "id": "40b1wFxw2LPR"
      },
      "execution_count": null,
      "outputs": []
    },
    {
      "cell_type": "code",
      "source": [
        "submission['mean_price'] = subm"
      ],
      "metadata": {
        "id": "DbS3EXP9smvK"
      },
      "execution_count": null,
      "outputs": []
    },
    {
      "cell_type": "code",
      "source": [
        "submission.to_csv('submission.csv', index=False)"
      ],
      "metadata": {
        "id": "b4CIv0e0tMto"
      },
      "execution_count": null,
      "outputs": []
    },
    {
      "cell_type": "markdown",
      "source": [
        "![image.png](data:image/png;base64,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)"
      ],
      "metadata": {
        "id": "xOSLq-n5WTqU"
      }
    }
  ],
  "metadata": {
    "accelerator": "GPU",
    "colab": {
      "provenance": [],
      "gpuType": "T4"
    },
    "kernelspec": {
      "display_name": "Python 3",
      "name": "python3"
    },
    "language_info": {
      "name": "python"
    }
  },
  "nbformat": 4,
  "nbformat_minor": 0
}