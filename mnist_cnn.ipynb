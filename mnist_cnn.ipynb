{
  "nbformat": 4,
  "nbformat_minor": 0,
  "metadata": {
    "colab": {
      "provenance": [],
      "gpuType": "T4",
      "authorship_tag": "ABX9TyO55SLwPTp0FkB7vVGfcXFe",
      "include_colab_link": true
    },
    "kernelspec": {
      "name": "python3",
      "display_name": "Python 3"
    },
    "language_info": {
      "name": "python"
    },
    "accelerator": "GPU"
  },
  "cells": [
    {
      "cell_type": "markdown",
      "metadata": {
        "id": "view-in-github",
        "colab_type": "text"
      },
      "source": [
        "<a href=\"https://colab.research.google.com/github/Lisitcyn/ML/blob/main/mnist_cnn.ipynb\" target=\"_parent\"><img src=\"https://colab.research.google.com/assets/colab-badge.svg\" alt=\"Open In Colab\"/></a>"
      ]
    },
    {
      "cell_type": "code",
      "execution_count": null,
      "metadata": {
        "id": "gOgejIdo0012"
      },
      "outputs": [],
      "source": [
        "import torch\n",
        "from torch import nn\n",
        "import torchvision as tv\n",
        "import time\n",
        "import matplotlib.pyplot as plt"
      ]
    },
    {
      "cell_type": "code",
      "source": [
        "def corr2d(X, K):\n",
        "    h, w = K.shape\n",
        "    Y = torch.zeros((X.shape[0] - h + 1, X.shape[1] - w + 1))\n",
        "    for i in range(Y.shape[0]):\n",
        "        for j in range(Y.shape[1]):\n",
        "            Y[i, j] = (X[i: i + h, j: j + w] * K).sum()\n",
        "    return Y"
      ],
      "metadata": {
        "id": "kKmdSQNH05bn"
      },
      "execution_count": null,
      "outputs": []
    },
    {
      "cell_type": "code",
      "source": [
        "X = torch.Tensor([[0, 1, 2], [3, 4, 5], [6, 7, 8]])\n",
        "K = torch.Tensor([[0, 1], [2, 3]])\n",
        "corr2d(X, K)"
      ],
      "metadata": {
        "id": "mMvmg0KV064y",
        "colab": {
          "base_uri": "https://localhost:8080/"
        },
        "outputId": "48e140cc-29e2-4960-a6a9-61a83a1f31c4"
      },
      "execution_count": null,
      "outputs": [
        {
          "output_type": "execute_result",
          "data": {
            "text/plain": [
              "tensor([[19., 25.],\n",
              "        [37., 43.]])"
            ]
          },
          "metadata": {},
          "execution_count": 97
        }
      ]
    },
    {
      "cell_type": "code",
      "source": [
        "BATCH_SIZE = 256"
      ],
      "metadata": {
        "id": "uFWzN4xA1DDA"
      },
      "execution_count": null,
      "outputs": []
    },
    {
      "cell_type": "code",
      "source": [
        "transforms = tv.transforms.Compose([\n",
        "    tv.transforms.Resize(32),\n",
        "    tv.transforms.ToTensor()\n",
        "])"
      ],
      "metadata": {
        "id": "Pi6PFAeL1E1g"
      },
      "execution_count": null,
      "outputs": []
    },
    {
      "cell_type": "code",
      "source": [
        "train_dataset = tv.datasets.MNIST('.',\n",
        "                                  train=True,\n",
        "                                  transform=transforms,\n",
        "                                  download=True)\n",
        "\n",
        "test_dataset = tv.datasets.MNIST('.',\n",
        "                                 train=False,\n",
        "                                 transform=transforms,\n",
        "                                 download=True)\n",
        "\n",
        "train_iter = torch.utils.data.DataLoader(train_dataset, batch_size=BATCH_SIZE)\n",
        "test_iter = torch.utils.data.DataLoader(test_dataset, batch_size=BATCH_SIZE)"
      ],
      "metadata": {
        "id": "cPy3exNO1Fyi"
      },
      "execution_count": null,
      "outputs": []
    },
    {
      "cell_type": "code",
      "source": [
        "train_dataset[0]"
      ],
      "metadata": {
        "id": "jtz_iQ9p1Juo",
        "colab": {
          "base_uri": "https://localhost:8080/"
        },
        "outputId": "18cd2cef-d7e5-4153-9470-b9be3eb61834"
      },
      "execution_count": null,
      "outputs": [
        {
          "output_type": "execute_result",
          "data": {
            "text/plain": [
              "(tensor([[[0., 0., 0.,  ..., 0., 0., 0.],\n",
              "          [0., 0., 0.,  ..., 0., 0., 0.],\n",
              "          [0., 0., 0.,  ..., 0., 0., 0.],\n",
              "          ...,\n",
              "          [0., 0., 0.,  ..., 0., 0., 0.],\n",
              "          [0., 0., 0.,  ..., 0., 0., 0.],\n",
              "          [0., 0., 0.,  ..., 0., 0., 0.]]]),\n",
              " 5)"
            ]
          },
          "metadata": {},
          "execution_count": 101
        }
      ]
    },
    {
      "cell_type": "code",
      "source": [
        "plt.imshow(train_dataset[4][0].numpy().reshape(32,32), cmap='gray');"
      ],
      "metadata": {
        "id": "_ZAGvUoX1L9u",
        "colab": {
          "base_uri": "https://localhost:8080/",
          "height": 430
        },
        "outputId": "6fde3cb8-5f9e-4b27-b078-33e569a08252"
      },
      "execution_count": null,
      "outputs": [
        {
          "output_type": "display_data",
          "data": {
            "text/plain": [
              "<Figure size 640x480 with 1 Axes>"
            ],
            "image/png": "[encoded data removed]"
          },
          "metadata": {}
        }
      ]
    },
    {
      "cell_type": "code",
      "source": [
        "class ModifiedLeNet(nn.Module):\n",
        "    def __init__(self):\n",
        "        super(ModifiedLeNet, self).__init__()\n",
        "        self.conv1 = nn.Conv2d(1, 16, kernel_size=5, padding=2)  # Увеличение числа фильтров\n",
        "        self.bn1 = nn.BatchNorm2d(16)\n",
        "        self.conv2 = nn.Conv2d(16, 32, kernel_size=5, padding=2)  # Увеличение числа фильтров\n",
        "        self.bn2 = nn.BatchNorm2d(32)\n",
        "        self.conv3 = nn.Conv2d(32, 64, kernel_size=5, padding=2)  # Увеличение числа фильтров\n",
        "        self.bn3 = nn.BatchNorm2d(64)\n",
        "        self.pool = nn.AvgPool2d(2, stride=2)\n",
        "        self.flatten = nn.Flatten()\n",
        "        self.fc1 = nn.Linear(64 * 4 * 4, 120)  # Учитываем размер выходного тензора\n",
        "        self.dropout = nn.Dropout(0.5)  # Регуляризация\n",
        "        self.fc2 = nn.Linear(120, 84)\n",
        "        self.fc3 = nn.Linear(84, 10)\n",
        "\n",
        "    def forward(self, x):\n",
        "        x = self.pool(nn.functional.relu(self.bn1(self.conv1(x))))\n",
        "        x = self.pool(nn.functional.relu(self.bn2(self.conv2(x))))\n",
        "        x = self.pool(nn.functional.relu(self.bn3(self.conv3(x))))\n",
        "        x = self.flatten(x)\n",
        "        x = self.dropout(nn.functional.relu(self.fc1(x)))\n",
        "        x = self.dropout(nn.functional.relu(self.fc2(x)))\n",
        "        x = self.fc3(x)\n",
        "        return x"
      ],
      "metadata": {
        "id": "4MmeCoVY1PdS"
      },
      "execution_count": null,
      "outputs": []
    },
    {
      "cell_type": "code",
      "source": [
        "device = \"cuda\" if torch.cuda.is_available() else \"cpu\"\n",
        "#model = ModifiedLeNet().to(device)"
      ],
      "metadata": {
        "id": "A-1WGvygLsn3"
      },
      "execution_count": null,
      "outputs": []
    },
    {
      "cell_type": "markdown",
      "source": [
        "Обучение на GPU"
      ],
      "metadata": {
        "id": "PVUu453F1mr0"
      }
    },
    {
      "cell_type": "code",
      "source": [
        "model = model.to(device)\n",
        "model = ModifiedLeNet().to(device)"
      ],
      "metadata": {
        "id": "pFWezHS452SR"
      },
      "execution_count": null,
      "outputs": []
    },
    {
      "cell_type": "code",
      "source": [
        "#for inputs, labels in DataLoader:\n",
        "   # inputs, labels = inputs.to(device), labels.to(device)"
      ],
      "metadata": {
        "id": "mfitLsia54ev"
      },
      "execution_count": null,
      "outputs": []
    },
    {
      "cell_type": "code",
      "source": [
        "def train(net, train_iter, test_iter, optimizer, num_epochs, device):\n",
        "    loss = nn.CrossEntropyLoss()\n",
        "\n",
        "    for epoch in range(num_epochs):\n",
        "        train_l_sum, train_acc_sum, n, start = 0.0, 0.0, 0, time.time()\n",
        "\n",
        "        net.train()  # Установка режима обучения\n",
        "\n",
        "        for X, y in train_iter:\n",
        "            X, y = X.to(device), y.to(device)\n",
        "            optimizer.zero_grad()\n",
        "            y_hat = net(X)\n",
        "            l = loss(y_hat, y)\n",
        "            l.backward()\n",
        "            optimizer.step()\n",
        "            train_l_sum += l.item()\n",
        "            train_acc_sum += (y_hat.argmax(axis=1) == y).sum().item()\n",
        "            n += y.shape[0]\n",
        "\n",
        "        test_acc = evaluate_accuracy(test_iter, net, device)\n",
        "        print(f'epoch {epoch + 1}, loss {train_l_sum / n:.4f}, train acc {train_acc_sum / n:.3f}' \\\n",
        "              f', test acc {test_acc:.3f}, time {time.time() - start:.1f} sec')\n"
      ],
      "metadata": {
        "id": "ifu8dZtw1q6P"
      },
      "execution_count": null,
      "outputs": []
    },
    {
      "cell_type": "code",
      "source": [
        "lr, num_epochs = 0.001, 10  # Увеличение количества эпох для лучшего обучения\n",
        "optimizer = torch.optim.Adam(model.parameters(), lr=lr)"
      ],
      "metadata": {
        "id": "SowSgLpU1uwX"
      },
      "execution_count": null,
      "outputs": []
    },
    {
      "cell_type": "code",
      "source": [
        "train(model, train_iter, test_iter, optimizer, num_epochs, device)"
      ],
      "metadata": {
        "colab": {
          "base_uri": "https://localhost:8080/"
        },
        "id": "RT68m66R9c9x",
        "outputId": "7a976c12-006d-4f6f-b721-14f7ba74d3d2"
      },
      "execution_count": null,
      "outputs": [
        {
          "output_type": "stream",
          "name": "stdout",
          "text": [
            "epoch 1, loss 0.0017, train acc 0.864, test acc 0.985, time 13.5 sec\n",
            "epoch 2, loss 0.0004, train acc 0.972, test acc 0.989, time 14.1 sec\n",
            "epoch 3, loss 0.0003, train acc 0.979, test acc 0.988, time 13.4 sec\n",
            "epoch 4, loss 0.0003, train acc 0.983, test acc 0.989, time 13.5 sec\n",
            "epoch 5, loss 0.0002, train acc 0.986, test acc 0.990, time 13.4 sec\n",
            "epoch 6, loss 0.0002, train acc 0.986, test acc 0.989, time 13.4 sec\n",
            "epoch 7, loss 0.0002, train acc 0.988, test acc 0.990, time 13.4 sec\n",
            "epoch 8, loss 0.0002, train acc 0.989, test acc 0.992, time 13.4 sec\n",
            "epoch 9, loss 0.0002, train acc 0.990, test acc 0.992, time 13.4 sec\n",
            "epoch 10, loss 0.0002, train acc 0.990, test acc 0.988, time 13.4 sec\n"
          ]
        }
      ]
    }
  ]
}